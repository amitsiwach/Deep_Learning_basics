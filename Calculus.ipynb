{
  "nbformat": 4,
  "nbformat_minor": 0,
  "metadata": {
    "colab": {
      "provenance": [],
      "collapsed_sections": [],
      "include_colab_link": true
    },
    "kernelspec": {
      "display_name": "Python 3",
      "language": "python",
      "name": "python3"
    },
    "language_info": {
      "codemirror_mode": {
        "name": "ipython",
        "version": 3
      },
      "file_extension": ".py",
      "mimetype": "text/x-python",
      "name": "python",
      "nbconvert_exporter": "python",
      "pygments_lexer": "ipython3",
      "version": "3.7.7"
    }
  },
  "cells": [
    {
      "cell_type": "markdown",
      "metadata": {
        "id": "view-in-github",
        "colab_type": "text"
      },
      "source": [
        "<a href=\"https://colab.research.google.com/github/amitsiwach/Deep_Learning_projects/blob/main/Calculus.ipynb\" target=\"_parent\"><img src=\"https://colab.research.google.com/assets/colab-badge.svg\" alt=\"Open In Colab\"/></a>"
      ]
    },
    {
      "cell_type": "markdown",
      "metadata": {
        "id": "_JDbLw4T_WdQ"
      },
      "source": [
        "# 1 Calculus\n",
        "Calculus has very important place in mathematics, it’s a mathematical branch that deals with integrals and differentials. Knowing basics of calculus will serve as a base for understanding ML/DL algorithms. "
      ]
    },
    {
      "cell_type": "markdown",
      "metadata": {
        "id": "0UHFeFCoJe8q"
      },
      "source": [
        "## 1.1 Differentiation\n",
        "Differentiation generally refers to the rate of change of a function with respect to one of its variables. Here its similar to finding the tangent line slope of a function at some specific point."
      ]
    },
    {
      "cell_type": "markdown",
      "metadata": {
        "id": "mxZI1fWQFBGL"
      },
      "source": [
        "### 1.1.1 Power Rule\n",
        "Here we use the power rule in order to calculate the derivative and it’s pretty simple though.\n",
        "\n",
        "$$if,\\ \\mathbf{f(x)=x^n}$$\n",
        "\n",
        "$$then,\\ \\mathbf{f'(x)=n.x^{n-1}}$$\n",
        "\n",
        "**Examples**\n",
        "\n",
        "The considered function f(x) is equal to x to the fifth.\n",
        "\n",
        "$$f(x)=x^5$$\n",
        "$$f'(x)=5x^{(5-1)}$$\n",
        "$$f'(x)=5x^4$$\n",
        "\n",
        "\n",
        "**Example using python**\n",
        "\n",
        "Now let’s take a same example and calculate it in Python.\n",
        "```python\n",
        "## Used library\n",
        "import sympy as sym\n",
        "\n",
        "x= sym.Symbol('x')\n",
        "print(x)\n",
        "\n",
        "## Getting Differentiation in latex format\n",
        "sym.diff(x**5)\n",
        "```\n",
        "Outcome: $5.x^4$"
      ]
    },
    {
      "cell_type": "code",
      "metadata": {
        "id": "SIRMkxkCFOVY",
        "colab": {
          "base_uri": "https://localhost:8080/"
        },
        "outputId": "19616321-24c5-4c31-f6df-c0145d295077"
      },
      "source": [
        "## Used library\n",
        "import sympy as sym\n",
        "\n",
        "x= sym.Symbol('x')\n",
        "print(x)"
      ],
      "execution_count": 1,
      "outputs": [
        {
          "output_type": "stream",
          "name": "stdout",
          "text": [
            "x\n"
          ]
        }
      ]
    },
    {
      "cell_type": "code",
      "metadata": {
        "id": "pktR-F_MF4y9",
        "colab": {
          "base_uri": "https://localhost:8080/",
          "height": 38
        },
        "outputId": "3a991e1c-01d2-4a45-e0fd-326360736f16"
      },
      "source": [
        "## Getting Differentiation in latex format\n",
        "sym.diff(x**5)"
      ],
      "execution_count": 2,
      "outputs": [
        {
          "output_type": "execute_result",
          "data": {
            "text/plain": [
              "5*x**4"
            ],
            "text/latex": "$\\displaystyle 5 x^{4}$"
          },
          "metadata": {},
          "execution_count": 2
        }
      ]
    },
    {
      "cell_type": "markdown",
      "metadata": {
        "id": "E_JWP42e-jJL"
      },
      "source": [
        "**graphical representation**"
      ]
    },
    {
      "cell_type": "code",
      "metadata": {
        "id": "q-x8woaP-jJM"
      },
      "source": [
        "import matplotlib.pyplot as plt\n",
        "import seaborn as sns\n",
        "import numpy as np\n",
        "import sympy as sym\n",
        "\n",
        "plt.style.use('fivethirtyeight')"
      ],
      "execution_count": 3,
      "outputs": []
    },
    {
      "cell_type": "code",
      "metadata": {
        "id": "NDOnAogE-jJR"
      },
      "source": [
        "def f(x):\n",
        "    '''returns f(x) = x^5'''\n",
        "    return x**5"
      ],
      "execution_count": 4,
      "outputs": []
    },
    {
      "cell_type": "code",
      "metadata": {
        "id": "ot7tJ5sR-jJX",
        "outputId": "d114da5b-78d9-4439-9ad5-789b4241c6bd",
        "colab": {
          "base_uri": "https://localhost:8080/",
          "height": 38
        }
      },
      "source": [
        "# treating x as a symbol\n",
        "x = sym.Symbol('x')\n",
        "x"
      ],
      "execution_count": 5,
      "outputs": [
        {
          "output_type": "execute_result",
          "data": {
            "text/plain": [
              "x"
            ],
            "text/latex": "$\\displaystyle x$"
          },
          "metadata": {},
          "execution_count": 5
        }
      ]
    },
    {
      "cell_type": "code",
      "metadata": {
        "id": "KJggzNiy-jJc",
        "outputId": "dad69736-709c-4c75-fd38-6e9ce5e51324",
        "colab": {
          "base_uri": "https://localhost:8080/",
          "height": 38
        }
      },
      "source": [
        "# find differentiation of f(x) wrt x, denoted by y' (i.e. y_prime)\n",
        "y_prime = f(x).diff()\n",
        "y_prime"
      ],
      "execution_count": 6,
      "outputs": [
        {
          "output_type": "execute_result",
          "data": {
            "text/plain": [
              "5*x**4"
            ],
            "text/latex": "$\\displaystyle 5 x^{4}$"
          },
          "metadata": {},
          "execution_count": 6
        }
      ]
    },
    {
      "cell_type": "code",
      "metadata": {
        "id": "qWNGh1zZ-jJh"
      },
      "source": [
        "# creating a function that calculates slope for given x and y_prime\n",
        "slope = sym.lambdify(x, y_prime, 'numpy')"
      ],
      "execution_count": 7,
      "outputs": []
    },
    {
      "cell_type": "code",
      "metadata": {
        "id": "MMBfx7J--jJn"
      },
      "source": [
        "def intercept(slope, x0, function):\n",
        "    '''calculates intercept of the tangent who's slope is obtained by differentiation'''\n",
        "    y0 = function(x0)\n",
        "    intercept = -slope*(x0) + y0\n",
        "    return intercept"
      ],
      "execution_count": 8,
      "outputs": []
    },
    {
      "cell_type": "code",
      "metadata": {
        "id": "jXbVN_R8-jJs",
        "outputId": "388e44f5-2ea9-4040-e8a6-4bc86598af99",
        "colab": {
          "base_uri": "https://localhost:8080/"
        }
      },
      "source": [
        "# generating 20 datapoints between -2 and 2 for x axis\n",
        "x = np.linspace(-2,2,20)\n",
        "x"
      ],
      "execution_count": 9,
      "outputs": [
        {
          "output_type": "execute_result",
          "data": {
            "text/plain": [
              "array([-2.        , -1.78947368, -1.57894737, -1.36842105, -1.15789474,\n",
              "       -0.94736842, -0.73684211, -0.52631579, -0.31578947, -0.10526316,\n",
              "        0.10526316,  0.31578947,  0.52631579,  0.73684211,  0.94736842,\n",
              "        1.15789474,  1.36842105,  1.57894737,  1.78947368,  2.        ])"
            ]
          },
          "metadata": {},
          "execution_count": 9
        }
      ]
    },
    {
      "cell_type": "code",
      "metadata": {
        "id": "U_LrEDee-jJx"
      },
      "source": [
        "def draw_tangent(x0, x, f ,LW=2, ALPHA=0.5):\n",
        "    '''draws tangent line at x0 and y0'''\n",
        "    plt.axhline(0, color='k',linewidth=LW, alpha=ALPHA)\n",
        "    plt.axvline(0, color='k',linewidth=LW, alpha=ALPHA)\n",
        "    sns.lineplot(x, f(x), color='b',linewidth=LW)\n",
        "    sns.lineplot(x, slope(x0)*x + intercept(slope(x0), x0, f), color='r',linewidth=LW)"
      ],
      "execution_count": 10,
      "outputs": []
    },
    {
      "cell_type": "code",
      "metadata": {
        "id": "8yhermqi-jJ1",
        "outputId": "8fb80e7e-be20-4946-9cdb-bbccd13df8fc",
        "colab": {
          "base_uri": "https://localhost:8080/",
          "height": 371
        }
      },
      "source": [
        "# draw tangent line for f(x) = x^5 at x0 = 1 \n",
        "draw_tangent(1, x, f)"
      ],
      "execution_count": 11,
      "outputs": [
        {
          "output_type": "stream",
          "name": "stderr",
          "text": [
            "/usr/local/lib/python3.7/dist-packages/seaborn/_decorators.py:43: FutureWarning: Pass the following variables as keyword args: x, y. From version 0.12, the only valid positional argument will be `data`, and passing other arguments without an explicit keyword will result in an error or misinterpretation.\n",
            "  FutureWarning\n",
            "/usr/local/lib/python3.7/dist-packages/seaborn/_decorators.py:43: FutureWarning: Pass the following variables as keyword args: x, y. From version 0.12, the only valid positional argument will be `data`, and passing other arguments without an explicit keyword will result in an error or misinterpretation.\n",
            "  FutureWarning\n"
          ]
        },
        {
          "output_type": "display_data",
          "data": {
            "text/plain": [
              "<Figure size 432x288 with 1 Axes>"
            ],
            "image/png": "[encoded data removed]"
          },
          "metadata": {}
        }
      ]
    },
    {
      "cell_type": "markdown",
      "metadata": {
        "id": "Lu5HhtxMFBQO"
      },
      "source": [
        "\n",
        "### 1.1.2 Product Rule\n",
        "If a(x) and b(x) are two differentiable functions, then the product rule is used, where at first time it compute derivative of first function and at second time it compute derivative of second function.\n",
        "\n",
        "$$\\mathbf{f(x)=f(x) . g(x)}$$\n",
        "\n",
        "$$\\mathbf{f'(x) =f'(x) . g(x) + f(x) . g'(x)}$$\n",
        "\n",
        "**Example**\n",
        "\n",
        "$$f(x)=(x^4+2).cos⁡x$$\n",
        "\n",
        "$$\\Rightarrow f'(x) =4x^3.cos⁡x+(x^4+2).(-sin⁡x )$$\n",
        "\n",
        "$$\\Rightarrow  f'(x) =4x^3  cos⁡x-x^4  sin⁡x-2 sin⁡x$$\n",
        "\n",
        "**Example using python**\n",
        "\n",
        "Now let’s take a same example and calculate it in Python.\n",
        "\n"
      ]
    },
    {
      "cell_type": "code",
      "metadata": {
        "id": "R7yZKyM2NrKL",
        "colab": {
          "base_uri": "https://localhost:8080/",
          "height": 38
        },
        "outputId": "d60ddf7a-32ba-4b60-bc15-1d972c422ea0"
      },
      "source": [
        "## Used library\n",
        "import sympy as sym\n",
        "\n",
        "x= sym.Symbol('x')\n",
        " \n",
        "## Getting Differentiation in latex format\n",
        "sym.diff((x**4+2)*sym.cos(x))"
      ],
      "execution_count": 12,
      "outputs": [
        {
          "output_type": "execute_result",
          "data": {
            "text/plain": [
              "4*x**3*cos(x) - (x**4 + 2)*sin(x)"
            ],
            "text/latex": "$\\displaystyle 4 x^{3} \\cos{\\left(x \\right)} - \\left(x^{4} + 2\\right) \\sin{\\left(x \\right)}$"
          },
          "metadata": {},
          "execution_count": 12
        }
      ]
    },
    {
      "cell_type": "markdown",
      "metadata": {
        "id": "yu2A66XqFBT0"
      },
      "source": [
        "### 1.1.3 Chain Rule\n",
        "\n",
        "Chain rule is very vastly used in machine leraning algorithms such as; backpropagation, gradient descent, and etc. It deals with the nested functions $f(a(x))$.\n",
        "\n",
        "$$\\mathbf{f(x)=f(g(x))}$$\n",
        "\n",
        "$$\\mathbf{f'(x)=f'(g(x)).g'(x)}$$\n",
        "\n",
        "**Example**\n",
        "\n",
        "$$\n",
        "\\begin{matrix}\n",
        "f(x)=(x^4+7x+2)^2, & here\\ f(x)=x^2\\ \\&\\ g(x)=x^4+7x+2 \\\\ \n",
        "\\Rightarrow f'(x)=2(x^4+7x+2).(4x^3+7), & \\because\\ f'(x) = 2x\\ and\\ g'(x) = (4x^3+7) \\\\ \n",
        "\\Rightarrow f'(x)=(8x^3+14).(x^4+7x+2) & \n",
        "\\end{matrix}\n",
        "$$\n",
        "\n",
        "**Example using python**\n",
        "\n",
        "Now let’s take a same example and calculate it in Python.\n"
      ]
    },
    {
      "cell_type": "code",
      "metadata": {
        "id": "f7Ds2q_cSDdZ",
        "colab": {
          "base_uri": "https://localhost:8080/",
          "height": 38
        },
        "outputId": "994dedb9-6f92-42f4-8b21-c558185f09bd"
      },
      "source": [
        "## Used library\n",
        "import sympy as sym\n",
        "\n",
        "x= sym.Symbol('x')\n",
        " \n",
        "## Getting Differentiation in latex format\n",
        "sym.diff((x**4+7*x+2)**2)\n"
      ],
      "execution_count": 13,
      "outputs": [
        {
          "output_type": "execute_result",
          "data": {
            "text/plain": [
              "(8*x**3 + 14)*(x**4 + 7*x + 2)"
            ],
            "text/latex": "$\\displaystyle \\left(8 x^{3} + 14\\right) \\left(x^{4} + 7 x + 2\\right)$"
          },
          "metadata": {},
          "execution_count": 13
        }
      ]
    },
    {
      "cell_type": "markdown",
      "metadata": {
        "id": "RffzD-tiFBXp"
      },
      "source": [
        "### 1.1.4 Partial Derivatives (Multi-Variable Functions)\n",
        "Here, the same rules apply while obtaining derivatives with respect to one variable while keeping others constant. \n",
        "\n",
        "**Example**\n",
        "$$f(x,y)=x^4 y$$\n",
        "Obtaining partial derivative w.r.t x\n",
        "$$\\frac{\\partial (x^4 y)}{\\partial x}=4x^3 y$$\n",
        "\n",
        "Obtaining partial derivative w.r.t y\n",
        "$$\\frac{\\partial (x^4 y)}{\\partial y}=x^4$$\n",
        "\n",
        "**Example using python**\n",
        "\n",
        "Now let’s take a same example and calculate it in Python.\n"
      ]
    },
    {
      "cell_type": "code",
      "metadata": {
        "id": "t7Ok2UOH99Yh",
        "colab": {
          "base_uri": "https://localhost:8080/",
          "height": 38
        },
        "outputId": "c5395a78-33e9-4eb4-8923-f3e933924a37"
      },
      "source": [
        "## Used library\n",
        "import sympy as sym\n",
        "\n",
        "x, y= sym.symbols('x y')\n",
        " \n",
        "## Getting Differentiation w.r.t x in latex format\n",
        "sym.diff((x**4*y),x)"
      ],
      "execution_count": 14,
      "outputs": [
        {
          "output_type": "execute_result",
          "data": {
            "text/plain": [
              "4*x**3*y"
            ],
            "text/latex": "$\\displaystyle 4 x^{3} y$"
          },
          "metadata": {},
          "execution_count": 14
        }
      ]
    },
    {
      "cell_type": "code",
      "metadata": {
        "id": "CxDELcXH99ie",
        "colab": {
          "base_uri": "https://localhost:8080/",
          "height": 38
        },
        "outputId": "a4a72f73-b41e-445f-9667-5d6cdf679eb3"
      },
      "source": [
        "## Getting Differentiation w.r.t y in latex format\n",
        "sym.diff((x**4*y),y)"
      ],
      "execution_count": 15,
      "outputs": [
        {
          "output_type": "execute_result",
          "data": {
            "text/plain": [
              "x**4"
            ],
            "text/latex": "$\\displaystyle x^{4}$"
          },
          "metadata": {},
          "execution_count": 15
        }
      ]
    },
    {
      "cell_type": "markdown",
      "metadata": {
        "id": "KHXHPmMUMRdN"
      },
      "source": [
        "**Note:** Partial Derivatives for **`3 Variable Function`** can be applied in same way"
      ]
    },
    {
      "cell_type": "markdown",
      "metadata": {
        "id": "odfwtbtn-jKO"
      },
      "source": [
        "### 1.2.5 Successive differentiation\n",
        "\n",
        "Its nothing but differentiating the same function twice or more times.\n",
        "\n",
        "**Example**-\n",
        "\n",
        "* Let $y = f(x) = sin(x)$\n",
        "* then $\\Rightarrow y' = f'(x) = cos(x)$\n",
        "* taking derivative again w.r.t x $\\Rightarrow y'' = f''(x) = -sin(x)$"
      ]
    },
    {
      "cell_type": "markdown",
      "metadata": {
        "id": "nhO-ooas-jKP"
      },
      "source": [
        "### 1.2.6 Successive partial differentiation\n",
        "\n",
        "Its nothing but differentiating the same function twice or more times.\n",
        "\n",
        "**Example**-\n",
        "\n",
        "* Let $y = f(x, y)$\n",
        "* then $\\Rightarrow \\frac{\\partial y}{\\partial x}$\n",
        "* taking derivative again w.r.t x $\\Rightarrow \\frac{\\partial^2 y}{\\partial x^2}$"
      ]
    },
    {
      "cell_type": "markdown",
      "metadata": {
        "id": "PV_pqw24ZV75"
      },
      "source": [
        "## 1.2 Integrals\n",
        "In calculus, an integral is the space under a graph of an equation (sometimes said as \"the area under a curve\"). It also used to find areas, volumes, central points and many useful things. An integral is the reverse of a derivative and is the opposite of differential calculus. A derivative is the steepness (or \"slope\"), as the rate of change, of a curve. The word \"integral\" can also be used as an adjective meaning \"related to integers\".\n",
        "The symbol for integration, in calculus, is: $\\int$ a tall letter \"S\". \n",
        "\n",
        "![image1](calculas_imgs/calculus1.png)\n",
        "\n",
        "Integration is about finding the surface area s, given a, b and y = f(x). The formula for the integral from a  to b, graphed above, is:\n",
        "\n",
        "  **Formula:** $$\\int_a^b f(x)dx$$\n",
        "\n",
        "[**More Information**](https://simple.wikipedia.org/wiki/Integral)\n",
        "\n",
        "A Definite Integral has start and end values.\n",
        "\n",
        "**Note:** We find the **Definite Integral** by calculating the **Indefinite Integral** at a, and at b, then subtracting:\n",
        "\n"
      ]
    },
    {
      "cell_type": "markdown",
      "metadata": {
        "id": "7leuYaTtas79"
      },
      "source": [
        "**Example 1**\n",
        "Integral of $$∫_1^2 2x dx$$\n",
        "\n",
        "**Solution:**\n",
        "\n",
        "**Step1:** We are being asked to obtain the Definite Integral from 1 to 2 of `2x dx`\n",
        "\n",
        "**Step2:** First we need to find the Indefinite Integral.\n",
        "\n",
        "**Step3:** Using the Rules of Integration we find that $$∫2x dx = x^2 + C$$\n",
        "\n",
        "**Step4**: Now calculate that at 1, and 2:\n",
        "\n",
        "At x=1: $∫2x dx = 1^2 + C$\n",
        "\n",
        "At x=2: $∫2x dx = 2^2 + C$\n",
        "\n",
        "**Step5:** Subtract:\n",
        "\n",
        "(22 + C) − (12 + C)\n",
        "\n",
        " 22 + C − 12 + C\n",
        "\n",
        " 4 − 1 + C − C = 3\n",
        "\n",
        "And \"C\" gets cancelled out ... so with Definite Integrals we can ignore C.\n",
        "\n",
        "Result:\n",
        "\n",
        "$$∫_1^2 2x dx=3$$\n",
        "\n",
        "To compute a definite integral, pass the argument (integration_variable, lower_limit, upper_limit). \n"
      ]
    },
    {
      "cell_type": "markdown",
      "metadata": {
        "id": "0jq5nQgBbn0i"
      },
      "source": [
        "**Example 2**\n",
        "$$∫_0^∞ e^x dx$$\n",
        "\n",
        "**Note:** ∞ in SymPy is oo (that’s the lowercase letter “oh” twice). This is because oo looks like ∞, and is easy to type.\n",
        "\n",
        "**Example using python**\n"
      ]
    },
    {
      "cell_type": "code",
      "metadata": {
        "id": "olkOazKu99pJ",
        "colab": {
          "base_uri": "https://localhost:8080/",
          "height": 37
        },
        "outputId": "9f718c27-a0f7-4be9-e188-378ea0a14c9e"
      },
      "source": [
        "from sympy import*\n",
        "\n",
        "integrate(exp(-x), (x, 0, oo))"
      ],
      "execution_count": 16,
      "outputs": [
        {
          "output_type": "execute_result",
          "data": {
            "text/plain": [
              "1"
            ],
            "text/latex": "$\\displaystyle 1$"
          },
          "metadata": {},
          "execution_count": 16
        }
      ]
    },
    {
      "cell_type": "markdown",
      "metadata": {
        "id": "1F--2bhE-jKZ"
      },
      "source": [
        "**Graphical example**"
      ]
    },
    {
      "cell_type": "code",
      "metadata": {
        "id": "Szyof5ia-jKa",
        "outputId": "285c830a-0fd6-4cbb-de0d-578aca2442bd",
        "colab": {
          "base_uri": "https://localhost:8080/",
          "height": 354
        }
      },
      "source": [
        "# generating 20 datapoints between -2 and 2 for x axis\n",
        "\n",
        "x = np.linspace(-5,5,50)\n",
        "function = np.sin(x) + 1\n",
        "\n",
        "plt.axhline(0, color='k')\n",
        "plt.axvline(0, color='k')\n",
        "sns.lineplot(x, function)"
      ],
      "execution_count": 17,
      "outputs": [
        {
          "output_type": "stream",
          "name": "stderr",
          "text": [
            "/usr/local/lib/python3.7/dist-packages/seaborn/_decorators.py:43: FutureWarning: Pass the following variables as keyword args: x, y. From version 0.12, the only valid positional argument will be `data`, and passing other arguments without an explicit keyword will result in an error or misinterpretation.\n",
            "  FutureWarning\n"
          ]
        },
        {
          "output_type": "execute_result",
          "data": {
            "text/plain": [
              "<matplotlib.axes._subplots.AxesSubplot at 0x7fcd5106ce50>"
            ]
          },
          "metadata": {},
          "execution_count": 17
        },
        {
          "output_type": "display_data",
          "data": {
            "text/plain": [
              "<Figure size 432x288 with 1 Axes>"
            ],
            "image/png": "[encoded data removed]"
          },
          "metadata": {}
        }
      ]
    },
    {
      "cell_type": "code",
      "metadata": {
        "id": "OTYjWJWy-jKd",
        "outputId": "138ed9f5-f15e-49cd-f9a6-781b76b6b895",
        "colab": {
          "base_uri": "https://localhost:8080/",
          "height": 354
        }
      },
      "source": [
        "plt.axhline(0, color='k')\n",
        "plt.axvline(0, color='k')\n",
        "\n",
        "# fill area between x>1 and x<= 4\n",
        "plt.fill_between(x, function,where = (x > 1) & (x <= 4), color='r', alpha=0.5)\n",
        "sns.lineplot(x, function)"
      ],
      "execution_count": 18,
      "outputs": [
        {
          "output_type": "stream",
          "name": "stderr",
          "text": [
            "/usr/local/lib/python3.7/dist-packages/seaborn/_decorators.py:43: FutureWarning: Pass the following variables as keyword args: x, y. From version 0.12, the only valid positional argument will be `data`, and passing other arguments without an explicit keyword will result in an error or misinterpretation.\n",
            "  FutureWarning\n"
          ]
        },
        {
          "output_type": "execute_result",
          "data": {
            "text/plain": [
              "<matplotlib.axes._subplots.AxesSubplot at 0x7fcd4e14e550>"
            ]
          },
          "metadata": {},
          "execution_count": 18
        },
        {
          "output_type": "display_data",
          "data": {
            "text/plain": [
              "<Figure size 432x288 with 1 Axes>"
            ],
            "image/png": "[encoded data removed]"
          },
          "metadata": {}
        }
      ]
    },
    {
      "cell_type": "markdown",
      "metadata": {
        "id": "_26pwDsabyvC"
      },
      "source": [
        "**Example 3**\n",
        "\n",
        "$$∫_∞^∞∫_∞^∞e^{-x^2-y^2} dx  dy$$\n",
        "\n",
        "**Example using python**\n"
      ]
    },
    {
      "cell_type": "code",
      "metadata": {
        "id": "6x8cLC7FSwIY",
        "colab": {
          "base_uri": "https://localhost:8080/",
          "height": 38
        },
        "outputId": "487391b6-6dbc-4a84-d7e7-10ad2e136d59"
      },
      "source": [
        "x, y= sym.symbols('x y')\n",
        "integrate(exp(-x**2 - y**2), (x, -oo, oo), (y, -oo, oo))"
      ],
      "execution_count": 19,
      "outputs": [
        {
          "output_type": "execute_result",
          "data": {
            "text/plain": [
              "pi"
            ],
            "text/latex": "$\\displaystyle \\pi$"
          },
          "metadata": {},
          "execution_count": 19
        }
      ]
    },
    {
      "cell_type": "markdown",
      "metadata": {
        "id": "-ewUnxal-zoP"
      },
      "source": [
        "## 1.2 Gradient of a Function\n",
        "\n",
        "* Let's say there's a function of two variable x and y $\\Rightarrow f(x,y)$\n",
        "* then $\\frac{\\partial{f}}{\\partial{x}}$ and $\\frac{\\partial{f}}{\\partial{y}}$ is partial derivative w.r.t x and y respectively\n",
        "* Now Gradient '$\\triangledown$' of f is defined as -\n",
        "$$\n",
        "\\triangledown{f} = \\begin{bmatrix}\n",
        "\\frac{\\partial{f}}{\\partial{x}} & \\frac{\\partial{f}}{\\partial{y}}\n",
        "\\end{bmatrix}^{T} = \\begin{bmatrix}\n",
        "\\frac{\\partial{f}}{\\partial{x}} \\\\ \\frac{\\partial{f}}{\\partial{y}}\n",
        "\\end{bmatrix}\n",
        "$$\n",
        "\n",
        "* Its nothing but vector of partial derivatives\n"
      ]
    },
    {
      "cell_type": "markdown",
      "metadata": {
        "id": "x46Of1xx-jKt"
      },
      "source": [
        "**EXAMPLE**\n",
        "\n",
        "$$f(x,y) = 2.x^2 + 4y$$\n",
        "\n"
      ]
    },
    {
      "cell_type": "markdown",
      "metadata": {
        "id": "qmG17RJj-jKu"
      },
      "source": [
        "$$\n",
        "\\triangledown{f} = \\begin{bmatrix}\n",
        "\\frac{\\partial{f}}{\\partial{x}} \\\\ \\frac{\\partial{f}}{\\partial{y}}\n",
        "\\end{bmatrix} = \\begin{bmatrix}\n",
        "4x \\\\ 4\n",
        "\\end{bmatrix}\n",
        "$$"
      ]
    },
    {
      "cell_type": "markdown",
      "metadata": {
        "id": "11I8qyGQ-jKv"
      },
      "source": [
        "## 1.3 Maxima and Minima"
      ]
    },
    {
      "cell_type": "markdown",
      "metadata": {
        "id": "McTDU1qf-jKx"
      },
      "source": [
        "### 1.3.1 Steps to calculate Maxima and Minima for a function with a single variable(univariate)-\n",
        "* Find points that satisfyies the equation $f'(x) = 0$. These points are known as critical points. Let's say you get two points c1 and c2.\n",
        "* Find double derivative of $f''(x)$ and find its value at c1 and c2\n",
        "    * for c1 if -\n",
        "        * f''(c1) > 0 $\\Rightarrow$ its a point of maxima and f(c1) is the maximum value\n",
        "        * f''(c1) < 0 $\\Rightarrow$ its a point of minima and f(c1) is the minimum value\n",
        "        * f''(c1) = 0 $\\Rightarrow$ its a point of inflection.\n",
        "* Similarly, for c2 also we can follow above steps"
      ]
    },
    {
      "cell_type": "markdown",
      "metadata": {
        "id": "LDU2pYRS-jKx"
      },
      "source": [
        "### 1.3.2 Steps to calculate Maxima and Minima for a function with two variable(multivariate)-\n",
        "* Let $f(x,y)$ is a bivariate function whose local minima or maxima point (aka extremum points) needs to be calculated.\n",
        "* Find - \n",
        "    * $f_x = p = \\frac{\\partial{f}}{\\partial{x}}$ and \n",
        "    * $f_y = q = \\frac{\\partial{f}}{\\partial{y}}$.\n",
        "* Solve $f_x = 0$ and $f_y = 0$ and find stationary or critical points.\n",
        "* Find - \n",
        "    * $r = f_{xx} = \\frac{\\partial{f}^2}{\\partial{x}^2}$, \n",
        "    * $s = f_{xy} = \\frac{\\partial{f}^2}{\\partial{xy}}$ and \n",
        "    * $t = f_{yy} = \\frac{\\partial{f}^2}{\\partial{y}^2}$\n",
        "* Lets do the analysis for the critical points that we have obtained. Lets take a critical point (a,b)\n",
        "    * if $r.t - s^2 > 0$ and\n",
        "        * if $r > 0$ $\\Rightarrow$ $f(a,b)$ has local minimum at that critical point\n",
        "        * if $r < 0$ $\\Rightarrow$ $f(a,b)$ has local maximum at that critical point\n",
        "    * if $r.t - s^2 = 0$ $\\Rightarrow$ test fails.\n",
        "    * if $r.t - s^2 < 0$ $\\Rightarrow$ its a sadal point at the critical point (i.e. neither max nor minimum) "
      ]
    },
    {
      "cell_type": "markdown",
      "metadata": {
        "id": "5XrAdrju-jKy"
      },
      "source": [
        "### 1.3.3 Local and Global Minima\n",
        "* For any function their can be many minimum points and among those minimum there can exist an minima point where function has the least value and this point is known as **global minima** and other minimum points are known as **local minima** point.\n",
        "* In ML/DL finding the global minima of a loss function using optimisation techniques like gradient descent plays a very important role."
      ]
    },
    {
      "cell_type": "markdown",
      "metadata": {
        "id": "6lfwdTB4-jKy"
      },
      "source": [
        "## 1.4 Jacobian\n",
        "\n",
        "if u and v are functions of the two independent variables x and y, then Jacobian for it is defined as shown below -\n",
        "$$\n",
        "\\frac{\\partial {(u,v)}}{\\partial {(x,y)}} =\n",
        "\\begin{bmatrix}\n",
        "\\frac{\\partial u}{\\partial x} & \\frac{\\partial u }{\\partial y}\\\\\n",
        "\\frac{\\partial v}{\\partial x} & \\frac{\\partial v }{\\partial y}\n",
        "\\end{bmatrix}\n",
        "$$\n",
        "\n",
        "similarly for functions $f_1, f_2 ... f_n$ with independent variables\n",
        "\n",
        "$$\n",
        "J = \\triangledown_Xf =\n",
        "\\begin{bmatrix}\n",
        "\\frac{\\partial f_1}{\\partial x_1} & \\frac{\\partial f_1}{\\partial x_2} & \\cdots  & \\frac{\\partial f_1}{ \\partial x_n}\\\\ \n",
        "\\frac{\\partial f_2}{\\partial x_1} & \\frac{\\partial f_2}{\\partial x_2} & \\cdots  & \\frac{\\partial f}{ \\partial x_n}\\\\ \n",
        "\\vdots & \\vdots & \\ddots  & \\vdots \\\\ \n",
        "\\frac{\\partial f_m}{\\partial x_1} & \\frac{\\partial f_m}{\\partial x_2} & \\cdots  & \\frac{\\partial f_m}{\\partial x_n}\n",
        "\\end{bmatrix}\n",
        "$$"
      ]
    },
    {
      "cell_type": "markdown",
      "metadata": {
        "id": "b-d7JA_H-jKz"
      },
      "source": [
        "## 1.5 Hessian\n",
        "\n",
        "* Its nothing but gradient of the gradient\n",
        "* Hessian of size nxn matrix for a function $f$ is -\n",
        "\n",
        "$$\n",
        "H_{i,j} =\n",
        "\\begin{bmatrix}\n",
        "\\frac{\\partial^2 f}{\\partial x_1 \\partial x_1} & \\frac{\\partial^2 f}{\\partial x_1 \\partial x_2} & \\cdots  & \\frac{\\partial^2 f}{\\partial x_1 \\partial x_n}\\\\ \n",
        "\\frac{\\partial^2 f}{\\partial x_2 \\partial x_1} & \\frac{\\partial^2 f}{\\partial x_2 \\partial x_2} & \\cdots  & \\frac{\\partial^2 f}{\\partial x_2 \\partial x_n}\\\\ \n",
        "\\vdots & \\vdots & \\ddots  & \\vdots \\\\ \n",
        "\\frac{\\partial^2 f}{\\partial x_n \\partial x_1} & \\frac{\\partial^2 f}{\\partial x_n \\partial x_2} & \\cdots  & \\frac{\\partial^2 f}{\\partial x_n \\partial x_n}\n",
        "\\end{bmatrix}\n",
        "$$"
      ]
    },
    {
      "cell_type": "code",
      "source": [],
      "metadata": {
        "id": "R-FUzfXqqC5O"
      },
      "execution_count": 19,
      "outputs": []
    }
  ]
}