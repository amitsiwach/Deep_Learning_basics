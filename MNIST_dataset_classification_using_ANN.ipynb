{
  "nbformat": 4,
  "nbformat_minor": 0,
  "metadata": {
    "colab": {
      "name": "MNIST dataset classification using ANN.ipynb",
      "provenance": [],
      "collapsed_sections": []
    },
    "kernelspec": {
      "name": "python3",
      "display_name": "Python 3"
    },
    "language_info": {
      "name": "python"
    },
    "accelerator": "GPU",
    "gpuClass": "standard"
  },
  "cells": [
    {
      "cell_type": "code",
      "execution_count": null,
      "metadata": {
        "id": "lOKwUkSzJTFR"
      },
      "outputs": [],
      "source": [
        "import tensorflow as tf"
      ]
    },
    {
      "cell_type": "code",
      "source": [
        "tf.__version__"
      ],
      "metadata": {
        "colab": {
          "base_uri": "https://localhost:8080/",
          "height": 35
        },
        "id": "6uNN9GuFO6UI",
        "outputId": "2ae38276-3f3f-43f7-d85d-25806f357b95"
      },
      "execution_count": null,
      "outputs": [
        {
          "output_type": "execute_result",
          "data": {
            "text/plain": [
              "'2.8.2'"
            ],
            "application/vnd.google.colaboratory.intrinsic+json": {
              "type": "string"
            }
          },
          "metadata": {},
          "execution_count": 35
        }
      ]
    },
    {
      "cell_type": "code",
      "source": [
        "tf.keras.__version__"
      ],
      "metadata": {
        "colab": {
          "base_uri": "https://localhost:8080/",
          "height": 35
        },
        "id": "rrzN_gIcO-Zo",
        "outputId": "9b613aa8-7b8f-41ae-9619-481ef6498c3d"
      },
      "execution_count": null,
      "outputs": [
        {
          "output_type": "execute_result",
          "data": {
            "text/plain": [
              "'2.8.0'"
            ],
            "application/vnd.google.colaboratory.intrinsic+json": {
              "type": "string"
            }
          },
          "metadata": {},
          "execution_count": 36
        }
      ]
    },
    {
      "cell_type": "code",
      "source": [
        "tf.config.list_physical_devices(\"GPU\")"
      ],
      "metadata": {
        "colab": {
          "base_uri": "https://localhost:8080/"
        },
        "id": "mD3YquM7ULYa",
        "outputId": "2f04ccf5-320c-49b8-98b6-cf0de85a00d5"
      },
      "execution_count": null,
      "outputs": [
        {
          "output_type": "execute_result",
          "data": {
            "text/plain": [
              "[]"
            ]
          },
          "metadata": {},
          "execution_count": 37
        }
      ]
    },
    {
      "cell_type": "code",
      "source": [
        "tf.config.list_physical_devices(\"CPU\")"
      ],
      "metadata": {
        "colab": {
          "base_uri": "https://localhost:8080/"
        },
        "id": "CkS8VBjDUfLP",
        "outputId": "d0b4f052-fa2f-491b-9a2e-5cbcfe62d332"
      },
      "execution_count": null,
      "outputs": [
        {
          "output_type": "execute_result",
          "data": {
            "text/plain": [
              "[PhysicalDevice(name='/physical_device:CPU:0', device_type='CPU')]"
            ]
          },
          "metadata": {},
          "execution_count": 38
        }
      ]
    },
    {
      "cell_type": "code",
      "source": [
        "checklist = [\"GPU\",\"CPU\"]\n",
        "\n",
        "for device in checklist:\n",
        "  out_ = tf.config.list_physical_devices(device)\n",
        "  if len(out_) >0:\n",
        "    print(device, \" is available\")\n",
        "    print(\"Details: \", out_)\n",
        "  else:\n",
        "    print(device, \" is not available\")"
      ],
      "metadata": {
        "colab": {
          "base_uri": "https://localhost:8080/"
        },
        "id": "uOe9CJrIUv7y",
        "outputId": "9ecccdcf-2076-4371-8f6f-d422eae2d814"
      },
      "execution_count": null,
      "outputs": [
        {
          "output_type": "stream",
          "name": "stdout",
          "text": [
            "GPU  is not available\n",
            "CPU  is available\n",
            "Details:  [PhysicalDevice(name='/physical_device:CPU:0', device_type='CPU')]\n"
          ]
        }
      ]
    },
    {
      "cell_type": "code",
      "source": [
        "import numpy as np\n",
        "import matplotlib.pyplot as plt\n",
        "import pandas as pd\n",
        "import os"
      ],
      "metadata": {
        "id": "Kcd2hU4VVuD_"
      },
      "execution_count": null,
      "outputs": []
    },
    {
      "cell_type": "code",
      "source": [
        "mnist = tf.keras.datasets.mnist\n",
        "\n",
        "(X_train_full, y_train_full), (X_test, y_test) = mnist.load_data()"
      ],
      "metadata": {
        "id": "Z0wisYWeWr4h"
      },
      "execution_count": null,
      "outputs": []
    },
    {
      "cell_type": "code",
      "source": [
        "X_train_full.shape, y_train_full.shape"
      ],
      "metadata": {
        "colab": {
          "base_uri": "https://localhost:8080/"
        },
        "id": "8CNzJVwdXrgd",
        "outputId": "204f714c-4dff-4e55-d8ea-2283e9c2a60b"
      },
      "execution_count": null,
      "outputs": [
        {
          "output_type": "execute_result",
          "data": {
            "text/plain": [
              "((60000, 28, 28), (60000,))"
            ]
          },
          "metadata": {},
          "execution_count": 42
        }
      ]
    },
    {
      "cell_type": "code",
      "source": [
        "X_test.shape, y_test.shape"
      ],
      "metadata": {
        "colab": {
          "base_uri": "https://localhost:8080/"
        },
        "id": "6l6inTRsX4jX",
        "outputId": "e75df7c4-6da0-46d8-b49c-9ad4c6650f08"
      },
      "execution_count": null,
      "outputs": [
        {
          "output_type": "execute_result",
          "data": {
            "text/plain": [
              "((10000, 28, 28), (10000,))"
            ]
          },
          "metadata": {},
          "execution_count": 43
        }
      ]
    },
    {
      "cell_type": "code",
      "source": [
        "X_valid, X_train = X_train_full[:5000]/255.0, X_train_full[5000:]/255.0\n",
        "y_valid, y_train = y_train_full[:5000], y_train_full[5000:]"
      ],
      "metadata": {
        "id": "Ya9s3BOwaa1i"
      },
      "execution_count": null,
      "outputs": []
    },
    {
      "cell_type": "code",
      "source": [
        "plt.figure(figsize=(8,8))\n",
        "plt.imshow(X_train_full[15], cmap = \"binary\")\n",
        "plt.axis(\"off\")"
      ],
      "metadata": {
        "colab": {
          "base_uri": "https://localhost:8080/",
          "height": 483
        },
        "id": "HhLy2TsGbsfb",
        "outputId": "2b5a5815-a5d3-438d-9228-f7034556b5f7"
      },
      "execution_count": null,
      "outputs": [
        {
          "output_type": "execute_result",
          "data": {
            "text/plain": [
              "(-0.5, 27.5, 27.5, -0.5)"
            ]
          },
          "metadata": {},
          "execution_count": 45
        },
        {
          "output_type": "display_data",
          "data": {
            "text/plain": [
              "<Figure size 576x576 with 1 Axes>"
            ],
            "image/png": "[encoded data removed]"
          },
          "metadata": {
            "needs_background": "light"
          }
        }
      ]
    },
    {
      "cell_type": "code",
      "source": [
        "import seaborn as sns\n",
        "plt.figure(figsize=(15,15))\n",
        "sns.heatmap(X_train[0], annot = True, cmap = \"binary\")"
      ],
      "metadata": {
        "colab": {
          "base_uri": "https://localhost:8080/",
          "height": 880
        },
        "id": "Yi-O2wrUcRCR",
        "outputId": "47cfe54b-691a-470a-c9c3-4bb50e525555"
      },
      "execution_count": null,
      "outputs": [
        {
          "output_type": "execute_result",
          "data": {
            "text/plain": [
              "<matplotlib.axes._subplots.AxesSubplot at 0x7f7326cdcbd0>"
            ]
          },
          "metadata": {},
          "execution_count": 46
        },
        {
          "output_type": "display_data",
          "data": {
            "text/plain": [
              "<Figure size 1080x1080 with 2 Axes>"
            ],
            "image/png": "[encoded data removed]"
          },
          "metadata": {
            "needs_background": "light"
          }
        }
      ]
    },
    {
      "cell_type": "code",
      "source": [
        "LAYERS = [tf.keras.layers.Flatten(input_shape = [28,28], name = \"inputLayer\"),\n",
        "         tf.keras.layers.Dense(300,activation=\"relu\", name = \"hiddenlayer1\"),\n",
        "         tf.keras.layers.Dense(100,activation=\"relu\", name = \"hiddenlayer2\"),\n",
        "         tf.keras.layers.Dense(10,activation=\"softmax\", name = \"outputLayer\")]"
      ],
      "metadata": {
        "id": "opFT0ATodnOw"
      },
      "execution_count": null,
      "outputs": []
    },
    {
      "cell_type": "code",
      "source": [
        "model_clf = tf.keras.models.Sequential(LAYERS)"
      ],
      "metadata": {
        "id": "AINCcTCuiVEb"
      },
      "execution_count": null,
      "outputs": []
    },
    {
      "cell_type": "code",
      "source": [
        "model_clf.layers"
      ],
      "metadata": {
        "colab": {
          "base_uri": "https://localhost:8080/"
        },
        "id": "y17AY17enj5V",
        "outputId": "6730e88d-5e27-48ab-a57a-630461c16de9"
      },
      "execution_count": null,
      "outputs": [
        {
          "output_type": "execute_result",
          "data": {
            "text/plain": [
              "[<keras.layers.core.flatten.Flatten at 0x7f7324182950>,\n",
              " <keras.layers.core.dense.Dense at 0x7f73241c1f90>,\n",
              " <keras.layers.core.dense.Dense at 0x7f7324149a10>,\n",
              " <keras.layers.core.dense.Dense at 0x7f7324149710>]"
            ]
          },
          "metadata": {},
          "execution_count": 49
        }
      ]
    },
    {
      "cell_type": "code",
      "source": [
        "model_clf.summary()"
      ],
      "metadata": {
        "colab": {
          "base_uri": "https://localhost:8080/"
        },
        "id": "L76PSS-in20F",
        "outputId": "cf493311-8b2a-404a-8a83-f2da9500ebdf"
      },
      "execution_count": null,
      "outputs": [
        {
          "output_type": "stream",
          "name": "stdout",
          "text": [
            "Model: \"sequential_1\"\n",
            "_________________________________________________________________\n",
            " Layer (type)                Output Shape              Param #   \n",
            "=================================================================\n",
            " inputLayer (Flatten)        (None, 784)               0         \n",
            "                                                                 \n",
            " hiddenlayer1 (Dense)        (None, 300)               235500    \n",
            "                                                                 \n",
            " hiddenlayer2 (Dense)        (None, 100)               30100     \n",
            "                                                                 \n",
            " outputLayer (Dense)         (None, 10)                1010      \n",
            "                                                                 \n",
            "=================================================================\n",
            "Total params: 266,610\n",
            "Trainable params: 266,610\n",
            "Non-trainable params: 0\n",
            "_________________________________________________________________\n"
          ]
        }
      ]
    },
    {
      "cell_type": "code",
      "source": [
        "hidden1 = model_clf.layers[1]\n",
        "hidden1.name"
      ],
      "metadata": {
        "colab": {
          "base_uri": "https://localhost:8080/",
          "height": 35
        },
        "id": "oS3ncBSNp1cQ",
        "outputId": "8dd1c115-6cd7-4f52-f74c-b7f5b5fc9226"
      },
      "execution_count": null,
      "outputs": [
        {
          "output_type": "execute_result",
          "data": {
            "text/plain": [
              "'hiddenlayer1'"
            ],
            "application/vnd.google.colaboratory.intrinsic+json": {
              "type": "string"
            }
          },
          "metadata": {},
          "execution_count": 51
        }
      ]
    },
    {
      "cell_type": "code",
      "source": [
        "hidden1.get_weights()"
      ],
      "metadata": {
        "colab": {
          "base_uri": "https://localhost:8080/"
        },
        "id": "ED1hKvmwlPpC",
        "outputId": "387250f8-1063-47df-cbe6-e94cae247277"
      },
      "execution_count": null,
      "outputs": [
        {
          "output_type": "execute_result",
          "data": {
            "text/plain": [
              "[array([[ 0.0588561 , -0.01734512, -0.06042962, ..., -0.05249417,\n",
              "         -0.00015435, -0.05341061],\n",
              "        [ 0.0458129 , -0.02776923,  0.00523499, ...,  0.00771772,\n",
              "         -0.03365054, -0.01160831],\n",
              "        [-0.00341065,  0.06922942,  0.01060569, ..., -0.01382501,\n",
              "         -0.06272104,  0.04941716],\n",
              "        ...,\n",
              "        [ 0.00451941, -0.05114806,  0.07226931, ...,  0.06984645,\n",
              "          0.02931783, -0.06270661],\n",
              "        [-0.00518256, -0.05626529,  0.03930116, ...,  0.02594627,\n",
              "         -0.04079526, -0.05217921],\n",
              "        [-0.07166056, -0.01402339, -0.04399162, ..., -0.0536036 ,\n",
              "          0.04750495,  0.02297919]], dtype=float32),\n",
              " array([0., 0., 0., 0., 0., 0., 0., 0., 0., 0., 0., 0., 0., 0., 0., 0., 0.,\n",
              "        0., 0., 0., 0., 0., 0., 0., 0., 0., 0., 0., 0., 0., 0., 0., 0., 0.,\n",
              "        0., 0., 0., 0., 0., 0., 0., 0., 0., 0., 0., 0., 0., 0., 0., 0., 0.,\n",
              "        0., 0., 0., 0., 0., 0., 0., 0., 0., 0., 0., 0., 0., 0., 0., 0., 0.,\n",
              "        0., 0., 0., 0., 0., 0., 0., 0., 0., 0., 0., 0., 0., 0., 0., 0., 0.,\n",
              "        0., 0., 0., 0., 0., 0., 0., 0., 0., 0., 0., 0., 0., 0., 0., 0., 0.,\n",
              "        0., 0., 0., 0., 0., 0., 0., 0., 0., 0., 0., 0., 0., 0., 0., 0., 0.,\n",
              "        0., 0., 0., 0., 0., 0., 0., 0., 0., 0., 0., 0., 0., 0., 0., 0., 0.,\n",
              "        0., 0., 0., 0., 0., 0., 0., 0., 0., 0., 0., 0., 0., 0., 0., 0., 0.,\n",
              "        0., 0., 0., 0., 0., 0., 0., 0., 0., 0., 0., 0., 0., 0., 0., 0., 0.,\n",
              "        0., 0., 0., 0., 0., 0., 0., 0., 0., 0., 0., 0., 0., 0., 0., 0., 0.,\n",
              "        0., 0., 0., 0., 0., 0., 0., 0., 0., 0., 0., 0., 0., 0., 0., 0., 0.,\n",
              "        0., 0., 0., 0., 0., 0., 0., 0., 0., 0., 0., 0., 0., 0., 0., 0., 0.,\n",
              "        0., 0., 0., 0., 0., 0., 0., 0., 0., 0., 0., 0., 0., 0., 0., 0., 0.,\n",
              "        0., 0., 0., 0., 0., 0., 0., 0., 0., 0., 0., 0., 0., 0., 0., 0., 0.,\n",
              "        0., 0., 0., 0., 0., 0., 0., 0., 0., 0., 0., 0., 0., 0., 0., 0., 0.,\n",
              "        0., 0., 0., 0., 0., 0., 0., 0., 0., 0., 0., 0., 0., 0., 0., 0., 0.,\n",
              "        0., 0., 0., 0., 0., 0., 0., 0., 0., 0., 0.], dtype=float32)]"
            ]
          },
          "metadata": {},
          "execution_count": 52
        }
      ]
    },
    {
      "cell_type": "code",
      "source": [
        "weights, biases = hidden1.get_weights()"
      ],
      "metadata": {
        "id": "wHN9udZnliR2"
      },
      "execution_count": null,
      "outputs": []
    },
    {
      "cell_type": "code",
      "source": [
        "print(\"Weights shape: \", weights.shape)\n",
        "print(\"Biases shape: \", biases.shape)"
      ],
      "metadata": {
        "colab": {
          "base_uri": "https://localhost:8080/"
        },
        "id": "RjhnQQ2YnOPb",
        "outputId": "7db9b636-6b74-4ccf-96ae-d7db9bfd2202"
      },
      "execution_count": null,
      "outputs": [
        {
          "output_type": "stream",
          "name": "stdout",
          "text": [
            "Weights shape:  (784, 300)\n",
            "Biases shape:  (300,)\n"
          ]
        }
      ]
    },
    {
      "cell_type": "code",
      "source": [
        "LOSS_FUNCTION = \"sparse_categorical_crossentrophy\"\n",
        "OPTIMIZER = \"SGD\"\n",
        "METRICS = [\"accuracy\"]\n",
        "\n",
        "model_clf.compile(loss= LOSS_FUNCTION, optimizer= OPTIMIZER, metrics= METRICS)"
      ],
      "metadata": {
        "id": "L6hHzGZUndpN"
      },
      "execution_count": null,
      "outputs": []
    },
    {
      "cell_type": "markdown",
      "source": [
        "### TENSORBOARD CALLBACK"
      ],
      "metadata": {
        "id": "4qQyQiBT7Vur"
      }
    },
    {
      "cell_type": "code",
      "source": [
        "import time\n",
        "\n",
        "def get_log_path(log_dir=\"logs/fit\"):\n",
        "  filename = time.strftime(\"log_%Y_%m_%d_%H_%M_%S_\")\n",
        "  log_path = os.path.join(log_dir, filename)\n",
        "  return log_path\n",
        "\n",
        "log_dir = get_log_path()\n",
        "\n",
        "tb_cb = tf.keras.callbacks.TensorBoard(log_dir=log_dir)"
      ],
      "metadata": {
        "id": "VEH-y3mS7aiE"
      },
      "execution_count": null,
      "outputs": []
    },
    {
      "cell_type": "markdown",
      "source": [
        "## Eary Stopping Callbacks"
      ],
      "metadata": {
        "id": "nx_bcnf0Exti"
      }
    },
    {
      "cell_type": "code",
      "source": [
        "early_stopping_cb = tf.keras.callbacks.EarlyStopping(patience=5, restore_best_weights=True)"
      ],
      "metadata": {
        "id": "_cG2vZpQEwrB"
      },
      "execution_count": null,
      "outputs": []
    },
    {
      "cell_type": "markdown",
      "source": [
        "## Model Checkpointing Callback"
      ],
      "metadata": {
        "id": "Nds7eit4HtNU"
      }
    },
    {
      "cell_type": "code",
      "source": [
        "CKPT_path = \"model_ckpt.h5\"\n",
        "checkpointing_cb = tf.keras.callbacks.ModelCheckpoint(CKPT_path, save_best_only = True)"
      ],
      "metadata": {
        "id": "0de5TiS5HsHY"
      },
      "execution_count": null,
      "outputs": []
    },
    {
      "cell_type": "markdown",
      "source": [
        "### **Alternatively**"
      ],
      "metadata": {
        "id": "jwWqHFUmVJEY"
      }
    },
    {
      "cell_type": "code",
      "source": [
        "model_clf.compile(loss = tf.losses.sparse_categorical_crossentropy,\n",
        "                  optimizer = tf.keras.optimizers.SGD(0.02),\n",
        "                  metrics = [\"accuracy\"])"
      ],
      "metadata": {
        "id": "DoE-kv7eVLjc"
      },
      "execution_count": null,
      "outputs": []
    },
    {
      "cell_type": "code",
      "source": [
        "EPOCHS = 50\n",
        "VALIDATION_SET = (X_valid, y_valid)\n",
        "\n",
        "history = model_clf.fit(X_train, y_train, epochs= EPOCHS, validation_data= VALIDATION_SET, verbose=2, batch_size=32, callbacks=[tb_cb, early_stopping_cb,\n",
        "                                                                                                                                checkpointing_cb])"
      ],
      "metadata": {
        "colab": {
          "base_uri": "https://localhost:8080/"
        },
        "id": "poh6WSxuVv3B",
        "outputId": "837d3186-7b4d-4448-c569-5830cfebcfb5"
      },
      "execution_count": null,
      "outputs": [
        {
          "output_type": "stream",
          "name": "stdout",
          "text": [
            "Epoch 1/50\n",
            "1719/1719 - 6s - loss: 0.4609 - accuracy: 0.8776 - val_loss: 0.2578 - val_accuracy: 0.9286 - 6s/epoch - 3ms/step\n",
            "Epoch 2/50\n",
            "1719/1719 - 9s - loss: 0.2242 - accuracy: 0.9354 - val_loss: 0.1834 - val_accuracy: 0.9474 - 9s/epoch - 5ms/step\n",
            "Epoch 3/50\n",
            "1719/1719 - 8s - loss: 0.1725 - accuracy: 0.9499 - val_loss: 0.1499 - val_accuracy: 0.9582 - 8s/epoch - 5ms/step\n",
            "Epoch 4/50\n",
            "1719/1719 - 6s - loss: 0.1400 - accuracy: 0.9597 - val_loss: 0.1271 - val_accuracy: 0.9642 - 6s/epoch - 3ms/step\n",
            "Epoch 5/50\n",
            "1719/1719 - 5s - loss: 0.1169 - accuracy: 0.9663 - val_loss: 0.1149 - val_accuracy: 0.9662 - 5s/epoch - 3ms/step\n",
            "Epoch 6/50\n",
            "1719/1719 - 5s - loss: 0.0998 - accuracy: 0.9717 - val_loss: 0.1001 - val_accuracy: 0.9712 - 5s/epoch - 3ms/step\n",
            "Epoch 7/50\n",
            "1719/1719 - 5s - loss: 0.0860 - accuracy: 0.9762 - val_loss: 0.1015 - val_accuracy: 0.9696 - 5s/epoch - 3ms/step\n",
            "Epoch 8/50\n",
            "1719/1719 - 5s - loss: 0.0754 - accuracy: 0.9793 - val_loss: 0.0871 - val_accuracy: 0.9772 - 5s/epoch - 3ms/step\n",
            "Epoch 9/50\n",
            "1719/1719 - 5s - loss: 0.0663 - accuracy: 0.9813 - val_loss: 0.0885 - val_accuracy: 0.9744 - 5s/epoch - 3ms/step\n",
            "Epoch 10/50\n",
            "1719/1719 - 5s - loss: 0.0585 - accuracy: 0.9839 - val_loss: 0.0847 - val_accuracy: 0.9768 - 5s/epoch - 3ms/step\n",
            "Epoch 11/50\n",
            "1719/1719 - 5s - loss: 0.0520 - accuracy: 0.9856 - val_loss: 0.0766 - val_accuracy: 0.9774 - 5s/epoch - 3ms/step\n",
            "Epoch 12/50\n",
            "1719/1719 - 5s - loss: 0.0467 - accuracy: 0.9868 - val_loss: 0.0719 - val_accuracy: 0.9782 - 5s/epoch - 3ms/step\n",
            "Epoch 13/50\n",
            "1719/1719 - 5s - loss: 0.0411 - accuracy: 0.9888 - val_loss: 0.0753 - val_accuracy: 0.9760 - 5s/epoch - 3ms/step\n",
            "Epoch 14/50\n",
            "1719/1719 - 5s - loss: 0.0372 - accuracy: 0.9902 - val_loss: 0.0705 - val_accuracy: 0.9780 - 5s/epoch - 3ms/step\n",
            "Epoch 15/50\n",
            "1719/1719 - 5s - loss: 0.0332 - accuracy: 0.9916 - val_loss: 0.0704 - val_accuracy: 0.9790 - 5s/epoch - 3ms/step\n",
            "Epoch 16/50\n",
            "1719/1719 - 5s - loss: 0.0296 - accuracy: 0.9928 - val_loss: 0.0671 - val_accuracy: 0.9782 - 5s/epoch - 3ms/step\n",
            "Epoch 17/50\n",
            "1719/1719 - 5s - loss: 0.0266 - accuracy: 0.9938 - val_loss: 0.0661 - val_accuracy: 0.9800 - 5s/epoch - 3ms/step\n",
            "Epoch 18/50\n",
            "1719/1719 - 5s - loss: 0.0239 - accuracy: 0.9949 - val_loss: 0.0645 - val_accuracy: 0.9820 - 5s/epoch - 3ms/step\n",
            "Epoch 19/50\n",
            "1719/1719 - 6s - loss: 0.0216 - accuracy: 0.9955 - val_loss: 0.0657 - val_accuracy: 0.9812 - 6s/epoch - 3ms/step\n",
            "Epoch 20/50\n",
            "1719/1719 - 5s - loss: 0.0194 - accuracy: 0.9961 - val_loss: 0.0654 - val_accuracy: 0.9794 - 5s/epoch - 3ms/step\n",
            "Epoch 21/50\n",
            "1719/1719 - 5s - loss: 0.0172 - accuracy: 0.9972 - val_loss: 0.0666 - val_accuracy: 0.9798 - 5s/epoch - 3ms/step\n",
            "Epoch 22/50\n",
            "1719/1719 - 6s - loss: 0.0158 - accuracy: 0.9973 - val_loss: 0.0647 - val_accuracy: 0.9806 - 6s/epoch - 3ms/step\n",
            "Epoch 23/50\n",
            "1719/1719 - 7s - loss: 0.0143 - accuracy: 0.9977 - val_loss: 0.0672 - val_accuracy: 0.9810 - 7s/epoch - 4ms/step\n"
          ]
        }
      ]
    },
    {
      "cell_type": "code",
      "source": [
        "ckpt_model = tf.keras.models.load_model(CKPT_path)\n",
        "\n",
        "history = model_clf.fit(X_train, y_train, epochs= EPOCHS, validation_data= VALIDATION_SET, verbose=2, batch_size=32, callbacks=[tb_cb, early_stopping_cb,\n",
        "                                                                                                                                checkpointing_cb])"
      ],
      "metadata": {
        "colab": {
          "base_uri": "https://localhost:8080/"
        },
        "id": "Q1Sf_EK35kLG",
        "outputId": "f60a0ca4-27f2-43c1-8766-55366c5750f9"
      },
      "execution_count": null,
      "outputs": [
        {
          "output_type": "stream",
          "name": "stdout",
          "text": [
            "Epoch 1/50\n",
            "1719/1719 - 6s - loss: 0.0212 - accuracy: 0.9957 - val_loss: 0.0665 - val_accuracy: 0.9802 - 6s/epoch - 3ms/step\n",
            "Epoch 2/50\n",
            "1719/1719 - 7s - loss: 0.0194 - accuracy: 0.9961 - val_loss: 0.0693 - val_accuracy: 0.9800 - 7s/epoch - 4ms/step\n",
            "Epoch 3/50\n",
            "1719/1719 - 6s - loss: 0.0174 - accuracy: 0.9967 - val_loss: 0.0646 - val_accuracy: 0.9804 - 6s/epoch - 3ms/step\n",
            "Epoch 4/50\n",
            "1719/1719 - 6s - loss: 0.0157 - accuracy: 0.9974 - val_loss: 0.0647 - val_accuracy: 0.9796 - 6s/epoch - 4ms/step\n",
            "Epoch 5/50\n",
            "1719/1719 - 6s - loss: 0.0143 - accuracy: 0.9978 - val_loss: 0.0635 - val_accuracy: 0.9820 - 6s/epoch - 4ms/step\n",
            "Epoch 6/50\n",
            "1719/1719 - 6s - loss: 0.0128 - accuracy: 0.9981 - val_loss: 0.0660 - val_accuracy: 0.9818 - 6s/epoch - 4ms/step\n",
            "Epoch 7/50\n",
            "1719/1719 - 8s - loss: 0.0116 - accuracy: 0.9985 - val_loss: 0.0632 - val_accuracy: 0.9820 - 8s/epoch - 5ms/step\n",
            "Epoch 8/50\n",
            "1719/1719 - 6s - loss: 0.0104 - accuracy: 0.9986 - val_loss: 0.0642 - val_accuracy: 0.9812 - 6s/epoch - 4ms/step\n",
            "Epoch 9/50\n",
            "1719/1719 - 6s - loss: 0.0097 - accuracy: 0.9989 - val_loss: 0.0662 - val_accuracy: 0.9808 - 6s/epoch - 3ms/step\n",
            "Epoch 10/50\n",
            "1719/1719 - 6s - loss: 0.0087 - accuracy: 0.9992 - val_loss: 0.0645 - val_accuracy: 0.9820 - 6s/epoch - 3ms/step\n",
            "Epoch 11/50\n",
            "1719/1719 - 7s - loss: 0.0081 - accuracy: 0.9992 - val_loss: 0.0657 - val_accuracy: 0.9812 - 7s/epoch - 4ms/step\n",
            "Epoch 12/50\n",
            "1719/1719 - 6s - loss: 0.0073 - accuracy: 0.9993 - val_loss: 0.0663 - val_accuracy: 0.9822 - 6s/epoch - 3ms/step\n"
          ]
        }
      ]
    },
    {
      "cell_type": "code",
      "source": [
        ""
      ],
      "metadata": {
        "id": "owd6v1Lk5iyy"
      },
      "execution_count": null,
      "outputs": []
    },
    {
      "cell_type": "code",
      "source": [
        "import time\n",
        "import os"
      ],
      "metadata": {
        "id": "-vePifWHWNsG"
      },
      "execution_count": null,
      "outputs": []
    },
    {
      "cell_type": "code",
      "source": [
        "def saveModel_path(model_dir=\"TRAINED_MODEL\"):\n",
        "  os.makedirs(model_dir, exist_ok=True)\n",
        "  filename = time.strftime(\"Model_%Y_%m_%d_%H_%M_%S_.h5\")\n",
        "  model_path = os.path.join(model_dir, filename)\n",
        "  return model_path"
      ],
      "metadata": {
        "id": "JIZP4DCpkJ_f"
      },
      "execution_count": null,
      "outputs": []
    },
    {
      "cell_type": "code",
      "source": [
        "uniquePath = saveModel_path()\n",
        "uniquePath"
      ],
      "metadata": {
        "colab": {
          "base_uri": "https://localhost:8080/",
          "height": 35
        },
        "id": "oC1rYf5Rlzp3",
        "outputId": "349a92f1-62d7-4826-d576-48f69cd319ce"
      },
      "execution_count": null,
      "outputs": [
        {
          "output_type": "execute_result",
          "data": {
            "text/plain": [
              "'TRAINED_MODEL/Model_2022_06_28_08_22_39_.h5'"
            ],
            "application/vnd.google.colaboratory.intrinsic+json": {
              "type": "string"
            }
          },
          "metadata": {},
          "execution_count": 33
        }
      ]
    },
    {
      "cell_type": "code",
      "source": [
        "tf.keras.models.save_model(model_clf, uniquePath)"
      ],
      "metadata": {
        "id": "2eZ9KEHXmAd4"
      },
      "execution_count": null,
      "outputs": []
    },
    {
      "cell_type": "code",
      "source": [
        "history.params"
      ],
      "metadata": {
        "colab": {
          "base_uri": "https://localhost:8080/"
        },
        "id": "-VxB9MyGnt4R",
        "outputId": "cfc2e557-f4fa-4554-fce6-1e10cfe30215"
      },
      "execution_count": null,
      "outputs": [
        {
          "output_type": "execute_result",
          "data": {
            "text/plain": [
              "{'epochs': 50, 'steps': 1719, 'verbose': 2}"
            ]
          },
          "metadata": {},
          "execution_count": 63
        }
      ]
    },
    {
      "cell_type": "code",
      "source": [
        " pd.DataFrame(history.history).plot()"
      ],
      "metadata": {
        "colab": {
          "base_uri": "https://localhost:8080/",
          "height": 282
        },
        "id": "jm5a08XkoBi7",
        "outputId": "10b71427-4e1f-48fa-e69b-88bbcdc47bdb"
      },
      "execution_count": null,
      "outputs": [
        {
          "output_type": "execute_result",
          "data": {
            "text/plain": [
              "<matplotlib.axes._subplots.AxesSubplot at 0x7f7323f18ad0>"
            ]
          },
          "metadata": {},
          "execution_count": 64
        },
        {
          "output_type": "display_data",
          "data": {
            "text/plain": [
              "<Figure size 432x288 with 1 Axes>"
            ],
            "image/png": "[encoded data removed]"
          },
          "metadata": {
            "needs_background": "light"
          }
        }
      ]
    },
    {
      "cell_type": "code",
      "source": [
        "model_clf.evaluate(X_test, y_test)"
      ],
      "metadata": {
        "colab": {
          "base_uri": "https://localhost:8080/"
        },
        "id": "xZ2Dw4DUuEvW",
        "outputId": "7eadfc18-d583-4955-b996-48fd738d8f19"
      },
      "execution_count": null,
      "outputs": [
        {
          "output_type": "stream",
          "name": "stdout",
          "text": [
            "313/313 [==============================] - 1s 3ms/step - loss: 14.5609 - accuracy: 0.9755\n"
          ]
        },
        {
          "output_type": "execute_result",
          "data": {
            "text/plain": [
              "[14.560911178588867, 0.9754999876022339]"
            ]
          },
          "metadata": {},
          "execution_count": 65
        }
      ]
    },
    {
      "cell_type": "code",
      "source": [
        "y_prob = model_clf.predict(X_test[:3])\n",
        "y_prob"
      ],
      "metadata": {
        "colab": {
          "base_uri": "https://localhost:8080/"
        },
        "id": "ExK9IuSQzzE7",
        "outputId": "f7e1dfa6-7f21-467f-8c83-e18aebb06662"
      },
      "execution_count": null,
      "outputs": [
        {
          "output_type": "execute_result",
          "data": {
            "text/plain": [
              "array([[0., 0., 0., 0., 0., 0., 0., 1., 0., 0.],\n",
              "       [0., 0., 1., 0., 0., 0., 0., 0., 0., 0.],\n",
              "       [0., 1., 0., 0., 0., 0., 0., 0., 0., 0.]], dtype=float32)"
            ]
          },
          "metadata": {},
          "execution_count": 66
        }
      ]
    },
    {
      "cell_type": "code",
      "source": [
        "np.argmax(y_prob, axis=-1)"
      ],
      "metadata": {
        "colab": {
          "base_uri": "https://localhost:8080/"
        },
        "id": "3Rgtl_Ks0ZAx",
        "outputId": "fc987bb0-a68b-4d4c-8a86-340773c973d1"
      },
      "execution_count": null,
      "outputs": [
        {
          "output_type": "execute_result",
          "data": {
            "text/plain": [
              "array([7, 2, 1])"
            ]
          },
          "metadata": {},
          "execution_count": 67
        }
      ]
    },
    {
      "cell_type": "code",
      "source": [
        "y_test[:3]"
      ],
      "metadata": {
        "colab": {
          "base_uri": "https://localhost:8080/"
        },
        "id": "f_3Ftjdq1bA8",
        "outputId": "769c1703-8651-48c4-b7cb-17cb3888e527"
      },
      "execution_count": null,
      "outputs": [
        {
          "output_type": "execute_result",
          "data": {
            "text/plain": [
              "array([7, 2, 1], dtype=uint8)"
            ]
          },
          "metadata": {},
          "execution_count": 68
        }
      ]
    },
    {
      "cell_type": "code",
      "source": [
        "loaded_model = tf.keras.models.load_model(\"/content/TRAINED_MODEL/Model_2022_06_28_06_03_22_.h5\")"
      ],
      "metadata": {
        "colab": {
          "base_uri": "https://localhost:8080/",
          "height": 311
        },
        "id": "RNC2-JFY2cEx",
        "outputId": "0a2a5eae-9fd8-4bae-830a-6b3ea0d76908"
      },
      "execution_count": null,
      "outputs": [
        {
          "output_type": "error",
          "ename": "OSError",
          "evalue": "ignored",
          "traceback": [
            "\u001b[0;31m---------------------------------------------------------------------------\u001b[0m",
            "\u001b[0;31mOSError\u001b[0m                                   Traceback (most recent call last)",
            "\u001b[0;32m<ipython-input-69-50de1f6ad3f7>\u001b[0m in \u001b[0;36m<module>\u001b[0;34m()\u001b[0m\n\u001b[0;32m----> 1\u001b[0;31m \u001b[0mloaded_model\u001b[0m \u001b[0;34m=\u001b[0m \u001b[0mtf\u001b[0m\u001b[0;34m.\u001b[0m\u001b[0mkeras\u001b[0m\u001b[0;34m.\u001b[0m\u001b[0mmodels\u001b[0m\u001b[0;34m.\u001b[0m\u001b[0mload_model\u001b[0m\u001b[0;34m(\u001b[0m\u001b[0;34m\"/content/TRAINED_MODEL/Model_2022_06_28_06_03_22_.h5\"\u001b[0m\u001b[0;34m)\u001b[0m\u001b[0;34m\u001b[0m\u001b[0;34m\u001b[0m\u001b[0m\n\u001b[0m",
            "\u001b[0;32m/usr/local/lib/python3.7/dist-packages/keras/utils/traceback_utils.py\u001b[0m in \u001b[0;36merror_handler\u001b[0;34m(*args, **kwargs)\u001b[0m\n\u001b[1;32m     65\u001b[0m     \u001b[0;32mexcept\u001b[0m \u001b[0mException\u001b[0m \u001b[0;32mas\u001b[0m \u001b[0me\u001b[0m\u001b[0;34m:\u001b[0m  \u001b[0;31m# pylint: disable=broad-except\u001b[0m\u001b[0;34m\u001b[0m\u001b[0;34m\u001b[0m\u001b[0m\n\u001b[1;32m     66\u001b[0m       \u001b[0mfiltered_tb\u001b[0m \u001b[0;34m=\u001b[0m \u001b[0m_process_traceback_frames\u001b[0m\u001b[0;34m(\u001b[0m\u001b[0me\u001b[0m\u001b[0;34m.\u001b[0m\u001b[0m__traceback__\u001b[0m\u001b[0;34m)\u001b[0m\u001b[0;34m\u001b[0m\u001b[0;34m\u001b[0m\u001b[0m\n\u001b[0;32m---> 67\u001b[0;31m       \u001b[0;32mraise\u001b[0m \u001b[0me\u001b[0m\u001b[0;34m.\u001b[0m\u001b[0mwith_traceback\u001b[0m\u001b[0;34m(\u001b[0m\u001b[0mfiltered_tb\u001b[0m\u001b[0;34m)\u001b[0m \u001b[0;32mfrom\u001b[0m \u001b[0;32mNone\u001b[0m\u001b[0;34m\u001b[0m\u001b[0;34m\u001b[0m\u001b[0m\n\u001b[0m\u001b[1;32m     68\u001b[0m     \u001b[0;32mfinally\u001b[0m\u001b[0;34m:\u001b[0m\u001b[0;34m\u001b[0m\u001b[0;34m\u001b[0m\u001b[0m\n\u001b[1;32m     69\u001b[0m       \u001b[0;32mdel\u001b[0m \u001b[0mfiltered_tb\u001b[0m\u001b[0;34m\u001b[0m\u001b[0;34m\u001b[0m\u001b[0m\n",
            "\u001b[0;32m/usr/local/lib/python3.7/dist-packages/keras/saving/save.py\u001b[0m in \u001b[0;36mload_model\u001b[0;34m(filepath, custom_objects, compile, options)\u001b[0m\n\u001b[1;32m    202\u001b[0m         \u001b[0;32mif\u001b[0m \u001b[0misinstance\u001b[0m\u001b[0;34m(\u001b[0m\u001b[0mfilepath_str\u001b[0m\u001b[0;34m,\u001b[0m \u001b[0mstr\u001b[0m\u001b[0;34m)\u001b[0m\u001b[0;34m:\u001b[0m\u001b[0;34m\u001b[0m\u001b[0;34m\u001b[0m\u001b[0m\n\u001b[1;32m    203\u001b[0m           \u001b[0;32mif\u001b[0m \u001b[0;32mnot\u001b[0m \u001b[0mtf\u001b[0m\u001b[0;34m.\u001b[0m\u001b[0mio\u001b[0m\u001b[0;34m.\u001b[0m\u001b[0mgfile\u001b[0m\u001b[0;34m.\u001b[0m\u001b[0mexists\u001b[0m\u001b[0;34m(\u001b[0m\u001b[0mfilepath_str\u001b[0m\u001b[0;34m)\u001b[0m\u001b[0;34m:\u001b[0m\u001b[0;34m\u001b[0m\u001b[0;34m\u001b[0m\u001b[0m\n\u001b[0;32m--> 204\u001b[0;31m             \u001b[0;32mraise\u001b[0m \u001b[0mIOError\u001b[0m\u001b[0;34m(\u001b[0m\u001b[0;34mf'No file or directory found at {filepath_str}'\u001b[0m\u001b[0;34m)\u001b[0m\u001b[0;34m\u001b[0m\u001b[0;34m\u001b[0m\u001b[0m\n\u001b[0m\u001b[1;32m    205\u001b[0m \u001b[0;34m\u001b[0m\u001b[0m\n\u001b[1;32m    206\u001b[0m           \u001b[0;32mif\u001b[0m \u001b[0mtf\u001b[0m\u001b[0;34m.\u001b[0m\u001b[0mio\u001b[0m\u001b[0;34m.\u001b[0m\u001b[0mgfile\u001b[0m\u001b[0;34m.\u001b[0m\u001b[0misdir\u001b[0m\u001b[0;34m(\u001b[0m\u001b[0mfilepath_str\u001b[0m\u001b[0;34m)\u001b[0m\u001b[0;34m:\u001b[0m\u001b[0;34m\u001b[0m\u001b[0;34m\u001b[0m\u001b[0m\n",
            "\u001b[0;31mOSError\u001b[0m: No file or directory found at /content/TRAINED_MODEL/Model_2022_06_28_06_03_22_.h5"
          ]
        }
      ]
    },
    {
      "cell_type": "code",
      "source": [
        "loaded_model.predict(X_test[:3])"
      ],
      "metadata": {
        "id": "ByKyA2qmLEJ0"
      },
      "execution_count": null,
      "outputs": []
    },
    {
      "cell_type": "code",
      "source": [
        "%load_ext tensorboard"
      ],
      "metadata": {
        "id": "QXafbfmDLIbJ"
      },
      "execution_count": null,
      "outputs": []
    },
    {
      "cell_type": "code",
      "source": [
        "%tensorboard --logdir logs/fit"
      ],
      "metadata": {
        "id": "h4LRD-cR9abD"
      },
      "execution_count": null,
      "outputs": []
    },
    {
      "cell_type": "code",
      "source": [
        "%pwd"
      ],
      "metadata": {
        "id": "zX6WRF_c9lFZ"
      },
      "execution_count": null,
      "outputs": []
    },
    {
      "cell_type": "code",
      "source": [
        "%ls"
      ],
      "metadata": {
        "id": "BtDAUYjTEPcw"
      },
      "execution_count": null,
      "outputs": []
    },
    {
      "cell_type": "code",
      "source": [
        ""
      ],
      "metadata": {
        "id": "gLgmIlp_ERVe"
      },
      "execution_count": null,
      "outputs": []
    }
  ]
}