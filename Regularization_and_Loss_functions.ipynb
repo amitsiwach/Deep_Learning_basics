{
  "nbformat": 4,
  "nbformat_minor": 0,
  "metadata": {
    "colab": {
      "provenance": [],
      "include_colab_link": true
    },
    "kernelspec": {
      "display_name": "Python 3",
      "language": "python",
      "name": "python3"
    },
    "language_info": {
      "codemirror_mode": {
        "name": "ipython",
        "version": 3
      },
      "file_extension": ".py",
      "mimetype": "text/x-python",
      "name": "python",
      "nbconvert_exporter": "python",
      "pygments_lexer": "ipython3",
      "version": "3.7.9"
    }
  },
  "cells": [
    {
      "cell_type": "markdown",
      "metadata": {
        "id": "view-in-github",
        "colab_type": "text"
      },
      "source": [
        "<a href=\"https://colab.research.google.com/github/amitsiwach/Deep_Learning_basics/blob/main/Regularization_and_Loss_functions.ipynb\" target=\"_parent\"><img src=\"https://colab.research.google.com/assets/colab-badge.svg\" alt=\"Open In Colab\"/></a>"
      ]
    },
    {
      "cell_type": "markdown",
      "metadata": {
        "id": "s-S_IsOGJVY7"
      },
      "source": [
        "# Avoiding Overfitting Through Regularization"
      ]
    },
    {
      "cell_type": "markdown",
      "metadata": {
        "id": "Lkn9LczHJVY7"
      },
      "source": [
        "## $\\ell_1$ and $\\ell_2$ regularization"
      ]
    },
    {
      "cell_type": "code",
      "metadata": {
        "id": "PCCGVUKTdTZ9"
      },
      "source": [
        "from tensorflow import keras"
      ],
      "execution_count": 1,
      "outputs": []
    },
    {
      "cell_type": "code",
      "metadata": {
        "id": "VNM7SUhlJVY7"
      },
      "source": [
        "layer = keras.layers.Dense(100, activation=\"elu\",\n",
        "                           kernel_initializer=\"he_normal\",\n",
        "                           kernel_regularizer=keras.regularizers.l2(0.01))\n",
        "# or l1(0.1) for ℓ1 regularization with a factor or 0.1\n",
        "# or l1_l2(0.1, 0.01) for both ℓ1 and ℓ2 regularization, with factors 0.1 and 0.01 respectively"
      ],
      "execution_count": 2,
      "outputs": []
    },
    {
      "cell_type": "code",
      "metadata": {
        "id": "SFCnwt7rJVY7"
      },
      "source": [
        "model = keras.models.Sequential([\n",
        "    keras.layers.Flatten(input_shape=[28, 28]),\n",
        "    keras.layers.Dense(300, activation=\"elu\",\n",
        "                       kernel_initializer=\"he_normal\",\n",
        "                       kernel_regularizer=keras.regularizers.l2(0.01)),\n",
        "    keras.layers.Dense(100, activation=\"elu\",\n",
        "                       kernel_initializer=\"he_normal\",\n",
        "                       kernel_regularizer=keras.regularizers.l2(0.01)),\n",
        "    keras.layers.Dense(10, activation=\"softmax\",\n",
        "                       kernel_regularizer=keras.regularizers.l2(0.01))\n",
        "])\n",
        "model.compile(loss=\"sparse_categorical_crossentropy\", optimizer=\"nadam\", metrics=[\"accuracy\"])\n",
        "# n_epochs = 2\n",
        "# history = model.fit(X_train_scaled, y_train, epochs=n_epochs,\n",
        "#                     validation_data=(X_valid_scaled, y_valid))"
      ],
      "execution_count": 3,
      "outputs": []
    },
    {
      "cell_type": "code",
      "metadata": {
        "colab": {
          "base_uri": "https://localhost:8080/"
        },
        "id": "AWv1nGoYdcL8",
        "outputId": "ed7fa353-01da-45d3-d6e3-f76b12b6c131"
      },
      "source": [
        "model.summary()"
      ],
      "execution_count": 4,
      "outputs": [
        {
          "output_type": "stream",
          "name": "stdout",
          "text": [
            "Model: \"sequential\"\n",
            "_________________________________________________________________\n",
            " Layer (type)                Output Shape              Param #   \n",
            "=================================================================\n",
            " flatten (Flatten)           (None, 784)               0         \n",
            "                                                                 \n",
            " dense_1 (Dense)             (None, 300)               235500    \n",
            "                                                                 \n",
            " dense_2 (Dense)             (None, 100)               30100     \n",
            "                                                                 \n",
            " dense_3 (Dense)             (None, 10)                1010      \n",
            "                                                                 \n",
            "=================================================================\n",
            "Total params: 266,610\n",
            "Trainable params: 266,610\n",
            "Non-trainable params: 0\n",
            "_________________________________________________________________\n"
          ]
        }
      ]
    },
    {
      "cell_type": "code",
      "metadata": {
        "id": "VaaDh1MZJVY7"
      },
      "source": [
        "from functools import partial\n",
        "\n",
        "RegularizedDense = partial(keras.layers.Dense,\n",
        "                           activation=\"elu\",\n",
        "                           kernel_initializer=\"he_normal\",\n",
        "                           kernel_regularizer=keras.regularizers.l2(0.01))\n",
        "\n",
        "model = keras.models.Sequential([\n",
        "    keras.layers.Flatten(input_shape=[28, 28]),\n",
        "    RegularizedDense(300),\n",
        "    RegularizedDense(100),\n",
        "    RegularizedDense(10, activation=\"softmax\")\n",
        "])\n",
        "model.compile(loss=\"sparse_categorical_crossentropy\", optimizer=\"nadam\", metrics=[\"accuracy\"])\n",
        "# n_epochs = 2\n",
        "# history = model.fit(X_train_scaled, y_train, epochs=n_epochs,\n",
        "#                     validation_data=(X_valid_scaled, y_valid))"
      ],
      "execution_count": 5,
      "outputs": []
    },
    {
      "cell_type": "code",
      "metadata": {
        "colab": {
          "base_uri": "https://localhost:8080/"
        },
        "id": "2Q7RbB0Ydh1S",
        "outputId": "6f779698-711e-4f40-819c-51f5accf4c5c"
      },
      "source": [
        "model.summary()\n"
      ],
      "execution_count": 6,
      "outputs": [
        {
          "output_type": "stream",
          "name": "stdout",
          "text": [
            "Model: \"sequential_1\"\n",
            "_________________________________________________________________\n",
            " Layer (type)                Output Shape              Param #   \n",
            "=================================================================\n",
            " flatten_1 (Flatten)         (None, 784)               0         \n",
            "                                                                 \n",
            " dense_4 (Dense)             (None, 300)               235500    \n",
            "                                                                 \n",
            " dense_5 (Dense)             (None, 100)               30100     \n",
            "                                                                 \n",
            " dense_6 (Dense)             (None, 10)                1010      \n",
            "                                                                 \n",
            "=================================================================\n",
            "Total params: 266,610\n",
            "Trainable params: 266,610\n",
            "Non-trainable params: 0\n",
            "_________________________________________________________________\n"
          ]
        }
      ]
    },
    {
      "cell_type": "markdown",
      "metadata": {
        "id": "aerANo9peKTH"
      },
      "source": [
        "## Max-Norm Regularization"
      ]
    },
    {
      "cell_type": "code",
      "metadata": {
        "id": "Na_jD0L0dxm7"
      },
      "source": [
        "from functools import partial\n",
        "\n",
        "RegularizedDense = partial(keras.layers.Dense,\n",
        "                           activation=\"elu\",\n",
        "                           kernel_initializer=\"he_normal\",\n",
        "                           kernel_regularizer=keras.regularizers.l2(0.01), # we can use one or more than one regularization together as like here we are using L2 & Max_norm both\n",
        "                           kernel_constraint=keras.constraints.max_norm(1.))\n",
        "\n",
        "model = keras.models.Sequential([\n",
        "    keras.layers.Flatten(input_shape=[28, 28]),\n",
        "    RegularizedDense(300),\n",
        "    RegularizedDense(100),\n",
        "    RegularizedDense(10, activation=\"softmax\")\n",
        "])\n",
        "model.compile(loss=\"sparse_categorical_crossentropy\", optimizer=\"nadam\", metrics=[\"accuracy\"])\n",
        "# n_epochs = 2\n",
        "# history = model.fit(X_train_scaled, y_train, epochs=n_epochs,\n",
        "#                     validation_data=(X_valid_scaled, y_valid))"
      ],
      "execution_count": 7,
      "outputs": []
    },
    {
      "cell_type": "code",
      "metadata": {
        "colab": {
          "base_uri": "https://localhost:8080/"
        },
        "id": "OQUqXSTZeHKm",
        "outputId": "da39fe4f-5ce6-4f9e-8d6e-e5788afbe701"
      },
      "source": [
        "model.summary()\n"
      ],
      "execution_count": 8,
      "outputs": [
        {
          "output_type": "stream",
          "name": "stdout",
          "text": [
            "Model: \"sequential_2\"\n",
            "_________________________________________________________________\n",
            " Layer (type)                Output Shape              Param #   \n",
            "=================================================================\n",
            " flatten_2 (Flatten)         (None, 784)               0         \n",
            "                                                                 \n",
            " dense_7 (Dense)             (None, 300)               235500    \n",
            "                                                                 \n",
            " dense_8 (Dense)             (None, 100)               30100     \n",
            "                                                                 \n",
            " dense_9 (Dense)             (None, 10)                1010      \n",
            "                                                                 \n",
            "=================================================================\n",
            "Total params: 266,610\n",
            "Trainable params: 266,610\n",
            "Non-trainable params: 0\n",
            "_________________________________________________________________\n"
          ]
        }
      ]
    },
    {
      "cell_type": "markdown",
      "metadata": {
        "id": "J45-SoW1JVY7"
      },
      "source": [
        "## Dropout"
      ]
    },
    {
      "cell_type": "code",
      "metadata": {
        "id": "HpJCdOL8JVY8"
      },
      "source": [
        "model = keras.models.Sequential([\n",
        "    keras.layers.Flatten(input_shape=[28, 28]),\n",
        "    keras.layers.Dropout(rate=0.5),\n",
        "    keras.layers.Dense(300, activation=\"elu\", kernel_initializer=\"he_normal\"),\n",
        "    keras.layers.Dropout(rate=0.5),\n",
        "    keras.layers.Dense(100, activation=\"elu\", kernel_initializer=\"he_normal\"),\n",
        "    keras.layers.Dropout(rate=0.5),\n",
        "    keras.layers.Dense(10, activation=\"softmax\")\n",
        "])\n",
        "model.compile(loss=\"sparse_categorical_crossentropy\", optimizer=\"nadam\", metrics=[\"accuracy\"])\n",
        "# n_epochs = 2\n",
        "# history = model.fit(X_train_scaled, y_train, epochs=n_epochs,\n",
        "#                     validation_data=(X_valid_scaled, y_valid))"
      ],
      "execution_count": 9,
      "outputs": []
    },
    {
      "cell_type": "code",
      "metadata": {
        "colab": {
          "base_uri": "https://localhost:8080/"
        },
        "id": "6FtEAJ3idk2j",
        "outputId": "44d1841f-746a-4308-8142-8c3a126780d1"
      },
      "source": [
        "model.summary()\n"
      ],
      "execution_count": 10,
      "outputs": [
        {
          "output_type": "stream",
          "name": "stdout",
          "text": [
            "Model: \"sequential_3\"\n",
            "_________________________________________________________________\n",
            " Layer (type)                Output Shape              Param #   \n",
            "=================================================================\n",
            " flatten_3 (Flatten)         (None, 784)               0         \n",
            "                                                                 \n",
            " dropout (Dropout)           (None, 784)               0         \n",
            "                                                                 \n",
            " dense_10 (Dense)            (None, 300)               235500    \n",
            "                                                                 \n",
            " dropout_1 (Dropout)         (None, 300)               0         \n",
            "                                                                 \n",
            " dense_11 (Dense)            (None, 100)               30100     \n",
            "                                                                 \n",
            " dropout_2 (Dropout)         (None, 100)               0         \n",
            "                                                                 \n",
            " dense_12 (Dense)            (None, 10)                1010      \n",
            "                                                                 \n",
            "=================================================================\n",
            "Total params: 266,610\n",
            "Trainable params: 266,610\n",
            "Non-trainable params: 0\n",
            "_________________________________________________________________\n"
          ]
        }
      ]
    },
    {
      "cell_type": "code",
      "metadata": {
        "id": "kXVVTxVodlTt"
      },
      "source": [],
      "execution_count": 10,
      "outputs": []
    },
    {
      "cell_type": "code",
      "source": [],
      "metadata": {
        "id": "otF63g03slqP"
      },
      "execution_count": 10,
      "outputs": []
    },
    {
      "cell_type": "code",
      "metadata": {
        "id": "FBqvzEhxtxMk"
      },
      "source": [
        "import pandas as pd\n",
        "import numpy as np\n",
        "import matplotlib.pyplot as plt\n",
        "import tensorflow as tf\n",
        "plt.style.use(\"fivethirtyeight\")"
      ],
      "execution_count": 11,
      "outputs": []
    },
    {
      "cell_type": "markdown",
      "metadata": {
        "id": "prLxk02ltzy-"
      },
      "source": [
        "# Common loss functions\n",
        "\n",
        "## For Regression:- "
      ]
    },
    {
      "cell_type": "markdown",
      "metadata": {
        "id": "9h1Yxi-ct4vv"
      },
      "source": [
        "### 1. Mean Abslolute Error (MAE) | $l_1$ Loss function | L1-norm Loss Function (Least Absolute Error LAE):\n",
        "\n",
        "\n",
        "$$MAE = \\frac{1}{m}\\sum_{i=1}^m |y^{(i)} - \\hat{y}^{(i)}|$$\n",
        "\n",
        "**L1 loss function** are also known as **Least Absolute Deviations** in short **LAD**.\n",
        "\n",
        "It is used to minimize the error which is the mean of sum of all the absolute differences in between the true value and the predicted value."
      ]
    },
    {
      "cell_type": "code",
      "metadata": {
        "id": "4RRVgTRmuQVQ"
      },
      "source": [
        "def MAE(actual, pred):\n",
        "\n",
        "  return np.abs(actual - pred)"
      ],
      "execution_count": 12,
      "outputs": []
    },
    {
      "cell_type": "code",
      "metadata": {
        "colab": {
          "base_uri": "https://localhost:8080/",
          "height": 299
        },
        "id": "aCxWsygow_B8",
        "outputId": "336ff5a4-9e64-4697-932e-9c961bd17d49"
      },
      "source": [
        "actual_arr = np.repeat(100, 10000)\n",
        "pred_arr = np.arange(-10000, 10000, 2)\n",
        "\n",
        "loss_mae = [MAE(actual, pred) for actual, pred in zip(actual_arr, pred_arr)]\n",
        "\n",
        "plt.plot(pred_arr, loss_mae)"
      ],
      "execution_count": 13,
      "outputs": [
        {
          "output_type": "execute_result",
          "data": {
            "text/plain": [
              "[<matplotlib.lines.Line2D at 0x7fc6e8bed910>]"
            ]
          },
          "metadata": {},
          "execution_count": 13
        },
        {
          "output_type": "display_data",
          "data": {
            "text/plain": [
              "<Figure size 432x288 with 1 Axes>"
            ],
            "image/png": "[encoded data removed]"
          },
          "metadata": {}
        }
      ]
    },
    {
      "cell_type": "code",
      "metadata": {
        "colab": {
          "base_uri": "https://localhost:8080/"
        },
        "id": "b0FgvdND3bom",
        "outputId": "36a044fc-3e04-4f30-c8d1-96da0897b871"
      },
      "source": [
        "total_loss = np.mean(np.sum(loss_mae))\n",
        "total_loss"
      ],
      "execution_count": 14,
      "outputs": [
        {
          "output_type": "execute_result",
          "data": {
            "text/plain": [
              "50005100.0"
            ]
          },
          "metadata": {},
          "execution_count": 14
        }
      ]
    },
    {
      "cell_type": "markdown",
      "metadata": {
        "id": "6vZfbETY3POS"
      },
      "source": [
        "### 2. Mean Squared Error (MSE) | $l_2$ Loss function | L2-norm Loss Function (Least Squares Error LSE):\n",
        "\n",
        "\n",
        "$$MSE = \\frac{1}{m}\\sum_{i=1}^m (y^{(i)} - \\hat{y}^{(i)})^2$$\n",
        "\n",
        "\n",
        "It is used to minimize the error which is the mean of sum of all the squared differences in between the true value and the pedicted value.\n",
        "\n",
        "**The disadvantage** of the **L2 norm** is that when there are outliers, these points will account for the main component of the loss. "
      ]
    },
    {
      "cell_type": "code",
      "metadata": {
        "id": "1vKH2AGu5A9A"
      },
      "source": [
        "def MSE(actual, pred):\n",
        "\n",
        "  return np.square(actual - pred)"
      ],
      "execution_count": 15,
      "outputs": []
    },
    {
      "cell_type": "code",
      "metadata": {
        "colab": {
          "base_uri": "https://localhost:8080/",
          "height": 313
        },
        "id": "enqebf-Y5A9J",
        "outputId": "d496464c-1f41-415d-95d8-077dc9dd3fe6"
      },
      "source": [
        "actual_arr = np.repeat(100, 10000)\n",
        "pred_arr = np.arange(-10000, 10000, 2)\n",
        "\n",
        "loss_mSe = [MSE(actual, pred) for actual, pred in zip(actual_arr, pred_arr)]\n",
        "\n",
        "plt.plot(pred_arr, loss_mSe)"
      ],
      "execution_count": 16,
      "outputs": [
        {
          "output_type": "execute_result",
          "data": {
            "text/plain": [
              "[<matplotlib.lines.Line2D at 0x7fc6e86f0490>]"
            ]
          },
          "metadata": {},
          "execution_count": 16
        },
        {
          "output_type": "display_data",
          "data": {
            "text/plain": [
              "<Figure size 432x288 with 1 Axes>"
            ],
            "image/png": "[encoded data removed]"
          },
          "metadata": {}
        }
      ]
    },
    {
      "cell_type": "code",
      "metadata": {
        "colab": {
          "base_uri": "https://localhost:8080/"
        },
        "id": "8Jm0khWA5A9J",
        "outputId": "4528a72e-6e48-4305-eaae-c2e748c4be82"
      },
      "source": [
        "total_loss = np.mean(np.sum(loss_mSe))\n",
        "total_loss"
      ],
      "execution_count": 17,
      "outputs": [
        {
          "output_type": "execute_result",
          "data": {
            "text/plain": [
              "333435340000.0"
            ]
          },
          "metadata": {},
          "execution_count": 17
        }
      ]
    },
    {
      "cell_type": "markdown",
      "metadata": {
        "id": "G0GbeuA565ue"
      },
      "source": [
        "# 3. Huber Loss \n",
        "\n",
        "Huber Loss is often used in regression problems. Compared with L2 loss, Huber Loss is less sensitive to outliers(because if the residual is too large, it is a piecewise function, loss is a linear function of the residual).\n",
        "\n",
        "$$L_\\delta(y, \\hat{y}) = \\left\\{\\begin{matrix}\n",
        "\\frac{1}{2}(y - \\hat{y})^2, & for\\ |y - \\hat{y}| \\le \\delta\\\\ \n",
        "\\delta(|y - \\hat{y}| - \\frac{1}{2}\\delta), & otherwise\n",
        "\\end{matrix}\\right.\n",
        "$$\n",
        "\n",
        "Among them, $\\delta$ is a set parameter, $y$ represents the real value, and $f(x)$ represents the predicted value.\n",
        "\n",
        "The advantage of this is that when the residual is small, the loss function is L2 norm, and when the residual is large, it is a linear function of L1 norm\n",
        "\n",
        "\n",
        "[Wiki](https://en.wikipedia.org/wiki/Huber_loss)"
      ]
    },
    {
      "cell_type": "code",
      "metadata": {
        "id": "wLON9QDr5NIg"
      },
      "source": [
        "def huber(true, pred, delta):\n",
        "    \"\"\"\n",
        "    true: array of true values    \n",
        "    pred: array of predicted values\n",
        "    \n",
        "    returns: smoothed mean absolute error loss\n",
        "    \"\"\"\n",
        "    loss = np.where(np.abs(true-pred) < delta , 0.5*((true-pred)**2), delta*np.abs(true - pred) - 0.5*(delta**2))\n",
        "    return loss"
      ],
      "execution_count": 18,
      "outputs": []
    },
    {
      "cell_type": "code",
      "metadata": {
        "colab": {
          "base_uri": "https://localhost:8080/",
          "height": 282
        },
        "id": "7eJzHw_L9QEO",
        "outputId": "d995428e-0770-474f-c2c7-81a0553ec14d"
      },
      "source": [
        "actual_arr = np.repeat(0, 1000)\n",
        "pred_arr = np.arange(-10, 10, 0.02)\n",
        "\n",
        "deltas = [0.1, 1, 10]\n",
        "\n",
        "loss_huber = [[huber(actual, pred, delta) for actual, pred in zip(actual_arr, pred_arr)] for delta in deltas]\n",
        "\n",
        "for idx in range(len(deltas)):\n",
        "  plt.plot(pred_arr, loss_huber[idx])"
      ],
      "execution_count": 19,
      "outputs": [
        {
          "output_type": "display_data",
          "data": {
            "text/plain": [
              "<Figure size 432x288 with 1 Axes>"
            ],
            "image/png": "[encoded data removed]"
          },
          "metadata": {}
        }
      ]
    },
    {
      "cell_type": "markdown",
      "metadata": {
        "id": "I5Y4lA2Det3A"
      },
      "source": [
        "# 4. Pseudo Huber Loss \n",
        "\n",
        "The Pseudo-Huber loss function can be used as a smooth approximation of the Huber loss function. \n",
        "\n",
        "It combines the best properties of $L2$ squared loss and $L1$ absolute loss by being strongly convex when close to the target/minimum and less steep for extreme values. \n",
        "\n",
        "The scale at which the Pseudo-Huber loss function transitions from $L2$ loss for values close to the minimum to $L1$ loss for extreme values and the steepness at extreme values can be controlled by the $\\delta$  value. \n",
        "\n",
        "The Pseudo-Huber loss function ensures that derivatives are continuous for all degrees\n",
        "\n",
        "$$L_\\delta(y, \\hat{y}) = \\delta^2 (\\sqrt{1 + ((y - \\hat{y})/\\delta)^2} - 1)\n",
        "$$\n"
      ]
    },
    {
      "cell_type": "code",
      "metadata": {
        "id": "Y-MGTIVKtRxj"
      },
      "source": [
        "x_function = tf.linspace(-1., 1., 500)\n",
        "target = tf.constant(0.)\n",
        "\n",
        "delta1 = tf.constant(0.2)\n",
        "pseudo_huber1_output = tf.multiply(tf.square(delta1), tf.sqrt(1. + tf.square((target - x_function)/delta1)) - 1.)\n",
        "# pseudo_huber1_output = sess.run(pseudo_huber1)\n",
        "\n",
        "delta2 = tf.constant(1.)\n",
        "pseudo_huber2_output = tf.multiply(tf.square(delta2), tf.sqrt(1. + tf.square((target - x_function) / delta2)) - 1.)\n",
        "# pseudo_huber2_output = sess.run(pseudo_huber2)\n",
        "\n",
        "delta3 = tf.constant(5.)\n",
        "pseudo_huber3_output = tf.multiply(tf.square(delta3), tf.sqrt(1. + tf.square((target - x_function) / delta2)) - 1.)\n",
        "# pseudo_huber3_output = sess.run(pseudo_huber3)"
      ],
      "execution_count": 20,
      "outputs": []
    },
    {
      "cell_type": "code",
      "metadata": {
        "id": "u4cEljlztRxj",
        "outputId": "dc6fbe12-6a8a-4215-c566-1f400af57b01",
        "colab": {
          "base_uri": "https://localhost:8080/",
          "height": 303
        }
      },
      "source": [
        "x_array = x_function\n",
        "plt.plot(x_array, pseudo_huber1_output, 'm,', label='Pseudo-Huber (0.2)')\n",
        "plt.plot(x_array, pseudo_huber2_output, 'k-.', label='Pseudo-Huber (1.0)')\n",
        "plt.plot(x_array, pseudo_huber3_output, 'g:', label='Pseudo-Huber (5.0)')\n",
        "plt.ylim(-0.2, 0.4)\n",
        "plt.legend(loc='lower right', prop={'size': 11})\n",
        "plt.title('LOSS FUNCTIONS')\n",
        "plt.show()"
      ],
      "execution_count": 21,
      "outputs": [
        {
          "output_type": "display_data",
          "data": {
            "text/plain": [
              "<Figure size 432x288 with 1 Axes>"
            ],
            "image/png": "[encoded data removed]"
          },
          "metadata": {}
        }
      ]
    },
    {
      "cell_type": "markdown",
      "metadata": {
        "id": "h4vCWQFntRxk"
      },
      "source": [
        "# For Classification \n",
        "\n",
        "<img src=\"https://gombru.github.io/assets/cross_entropy_loss/multiclass_multilabel.png\" width=70%></img>"
      ]
    },
    {
      "cell_type": "markdown",
      "metadata": {
        "id": "s_3U5YPFtRxk"
      },
      "source": [
        "## 3.Hinge Loss\n",
        "\n",
        "Hinge loss is often used for binary classification problems, such as ground true: t = 1 or -1, predicted value y = wx + b\n",
        "\n",
        "In the svm classifier, the definition of hinge loss is\n",
        "\n",
        "$$l(y) = max(0, 1-t.y)$$\n",
        "\n",
        "In other words, the closer the y is to t, the smaller the loss will be."
      ]
    },
    {
      "cell_type": "code",
      "metadata": {
        "id": "o0-mXVBktRxk",
        "outputId": "60040d9b-ec53-4c6b-8d39-da4b5b578297",
        "colab": {
          "base_uri": "https://localhost:8080/",
          "height": 282
        }
      },
      "source": [
        "x_guess2 = tf.linspace(-3.,5.,500)\n",
        "x_actual2 = tf.convert_to_tensor([1.]*500)\n",
        "\n",
        "#Hinge loss\n",
        "#hinge_loss = tf.losses.hinge_loss(labels=x_actual2, logits=x_guess2)\n",
        "hinge_loss = tf.maximum(0.,1.-(x_guess2*x_actual2))\n",
        "# with tf.Session() as sess:\n",
        "x_,hin_ = [x_guess2, hinge_loss]\n",
        "plt.plot(x_,hin_,'--', label='hin_')\n",
        "plt.legend()\n",
        "plt.show()"
      ],
      "execution_count": 22,
      "outputs": [
        {
          "output_type": "display_data",
          "data": {
            "text/plain": [
              "<Figure size 432x288 with 1 Axes>"
            ],
            "image/png": "[encoded data removed]"
          },
          "metadata": {}
        }
      ]
    },
    {
      "cell_type": "markdown",
      "metadata": {
        "id": "2qnUgZ0jtRxl"
      },
      "source": [
        "## 4.Cross-entropy loss\n",
        "\n",
        "\n",
        "$$J(w) = -y.log(\\hat{y}) - (1 - y).log(1-\\hat{y}) = - \\sum_{i}p_i. log(q_i)$$\n",
        "\n",
        "Cross-entropy loss is mainly applied to binary classification problems. The predicted value is a probability value and the loss is defined according to the cross entropy. Note the value range of the above value: the predicted value of y should be a probability and the value range is [0,1]\n",
        "\n",
        "\n",
        "\n",
        "## 5.Sigmoid-Cross-entropy loss\n",
        "\n",
        "The above cross-entropy loss requires that the predicted value is a probability. Generally, we calculate $scores = x*w + b$. Entering this value into the sigmoid function can compress the value range to (0,1).\n",
        "\n",
        "<img src=\"./Images/img9.png\">\n",
        "\n",
        "It can be seen that the sigmoid function smoothes the predicted value(such as directly inputting 0.1 and 0.01 and inputting 0.1, 0.01 sigmoid and then entering, the latter will obviously have a much smaller change value), which makes the predicted value of sigmoid-ce far from the label loss growth is not so steep.\n",
        "\n",
        "## 6.Softmax cross-entropy loss\n",
        "\n",
        "First, the softmax function can convert a set of fraction vectors into corresponding probability vectors. Here is the definition of softmax function\n",
        "\n",
        "$$softmax(z)_j = \\frac{e^{z_j}}{\\sum_{k=1}^{K}{e^{z_k}}}$$\n",
        "\n",
        "As above, softmax also implements a vector of 'squashes' k-dimensional real value to the [0,1] range of k-dimensional, while ensuring that the cumulative sum is 1.\n",
        "\n",
        "According to the definition of cross entropy, probability is required as input.Sigmoid-cross-entropy-loss uses sigmoid to convert the score vector into a probability vector, and softmax-cross-entropy-loss uses a softmax function to convert the score vector into a probability vector.\n",
        "\n",
        "According to the definition of cross entropy loss.\n",
        "\n",
        "$$H(p,q) = - \\sum_{x}p(x)log(q(x))$$\n",
        "\n",
        "where $p(x)$ represents the probability that classification $x$ is a correct classification, and the value of $p$ can only be 0 or 1. This is the prior value\n",
        "\n",
        "$q(x)$ is the prediction probability that the $x$ category is a correct classification, and the value range is (0,1)\n",
        "\n",
        "So specific to a classification problem with a total of C types, then $p(x_j)$, $(0 \\le j \\le C)$ must be only 1 and C-1 is 0(because there can be only one correct classification, correct the probability of classification as correct classification is 1, and the probability of the remaining classification as correct classification is 0)\n",
        "\n",
        "Then the definition of softmax-cross-entropy-loss can be derived naturally.\n",
        "\n",
        "Here is the definition of softmax-cross-entropy-loss.\n",
        "\n",
        "$$L_i = - log(\\frac{e^{f_{y_i}}}{\\sum_{j}{e^{f_{y_j}}}})$$\n",
        "\n",
        "Where $f_j$ is the score of all possible categories, and $f_{y_i}$ is the score of ground true class"
      ]
    },
    {
      "cell_type": "markdown",
      "metadata": {
        "id": "2nP_PglVtRxm"
      },
      "source": [
        "## Reference -\n",
        "\n",
        "[1] https://gombru.github.io/2018/05/23/cross_entropy_loss/"
      ]
    }
  ]
}