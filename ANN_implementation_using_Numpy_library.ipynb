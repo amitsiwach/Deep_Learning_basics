{
  "cells": [
    {
      "cell_type": "markdown",
      "metadata": {
        "id": "view-in-github",
        "colab_type": "text"
      },
      "source": [
        "<a href=\"https://colab.research.google.com/github/amitsiwach/Deep_Learning_projects/blob/main/ANN_implementation_using_Numpy_library.ipynb\" target=\"_parent\"><img src=\"https://colab.research.google.com/assets/colab-badge.svg\" alt=\"Open In Colab\"/></a>"
      ]
    },
    {
      "cell_type": "markdown",
      "id": "eec563bd",
      "metadata": {
        "id": "eec563bd"
      },
      "source": [
        "### Importing the necessary libraries"
      ]
    },
    {
      "cell_type": "code",
      "execution_count": 1,
      "id": "0696711c",
      "metadata": {
        "id": "0696711c"
      },
      "outputs": [],
      "source": [
        "# Importing the necessary libraries\n",
        "import pandas as pd\n",
        "import numpy as np\n",
        "from sklearn.model_selection import train_test_split"
      ]
    },
    {
      "cell_type": "markdown",
      "id": "184b2f95",
      "metadata": {
        "id": "184b2f95"
      },
      "source": [
        "### Loading and splitting dataset"
      ]
    },
    {
      "cell_type": "code",
      "execution_count": 2,
      "id": "1dbc8619",
      "metadata": {
        "colab": {
          "base_uri": "https://localhost:8080/",
          "height": 206
        },
        "id": "1dbc8619",
        "outputId": "5cb4baa1-e015-456f-a41b-a24ba9abb72f"
      },
      "outputs": [
        {
          "output_type": "execute_result",
          "data": {
            "text/plain": [
              "         x1        x2        x3    y\n",
              "0 -1.749765  1.342680  1.653036  1.0\n",
              "1 -0.252436  1.981321  1.014219  1.0\n",
              "2  0.221180 -0.070043  0.310504  0.0\n",
              "3  0.255001  0.541973  0.935163  1.0\n",
              "4 -0.583595  1.816847  1.172721  1.0"
            ],
            "text/html": [
              "\n",
              "  <div id=\"df-d71a5d66-e584-41cc-8813-0896af546cde\">\n",
              "    <div class=\"colab-df-container\">\n",
              "      <div>\n",
              "<style scoped>\n",
              "    .dataframe tbody tr th:only-of-type {\n",
              "        vertical-align: middle;\n",
              "    }\n",
              "\n",
              "    .dataframe tbody tr th {\n",
              "        vertical-align: top;\n",
              "    }\n",
              "\n",
              "    .dataframe thead th {\n",
              "        text-align: right;\n",
              "    }\n",
              "</style>\n",
              "<table border=\"1\" class=\"dataframe\">\n",
              "  <thead>\n",
              "    <tr style=\"text-align: right;\">\n",
              "      <th></th>\n",
              "      <th>x1</th>\n",
              "      <th>x2</th>\n",
              "      <th>x3</th>\n",
              "      <th>y</th>\n",
              "    </tr>\n",
              "  </thead>\n",
              "  <tbody>\n",
              "    <tr>\n",
              "      <th>0</th>\n",
              "      <td>-1.749765</td>\n",
              "      <td>1.342680</td>\n",
              "      <td>1.653036</td>\n",
              "      <td>1.0</td>\n",
              "    </tr>\n",
              "    <tr>\n",
              "      <th>1</th>\n",
              "      <td>-0.252436</td>\n",
              "      <td>1.981321</td>\n",
              "      <td>1.014219</td>\n",
              "      <td>1.0</td>\n",
              "    </tr>\n",
              "    <tr>\n",
              "      <th>2</th>\n",
              "      <td>0.221180</td>\n",
              "      <td>-0.070043</td>\n",
              "      <td>0.310504</td>\n",
              "      <td>0.0</td>\n",
              "    </tr>\n",
              "    <tr>\n",
              "      <th>3</th>\n",
              "      <td>0.255001</td>\n",
              "      <td>0.541973</td>\n",
              "      <td>0.935163</td>\n",
              "      <td>1.0</td>\n",
              "    </tr>\n",
              "    <tr>\n",
              "      <th>4</th>\n",
              "      <td>-0.583595</td>\n",
              "      <td>1.816847</td>\n",
              "      <td>1.172721</td>\n",
              "      <td>1.0</td>\n",
              "    </tr>\n",
              "  </tbody>\n",
              "</table>\n",
              "</div>\n",
              "      <button class=\"colab-df-convert\" onclick=\"convertToInteractive('df-d71a5d66-e584-41cc-8813-0896af546cde')\"\n",
              "              title=\"Convert this dataframe to an interactive table.\"\n",
              "              style=\"display:none;\">\n",
              "        \n",
              "  <svg xmlns=\"http://www.w3.org/2000/svg\" height=\"24px\"viewBox=\"0 0 24 24\"\n",
              "       width=\"24px\">\n",
              "    <path d=\"M0 0h24v24H0V0z\" fill=\"none\"/>\n",
              "    <path d=\"M18.56 5.44l.94 2.06.94-2.06 2.06-.94-2.06-.94-.94-2.06-.94 2.06-2.06.94zm-11 1L8.5 8.5l.94-2.06 2.06-.94-2.06-.94L8.5 2.5l-.94 2.06-2.06.94zm10 10l.94 2.06.94-2.06 2.06-.94-2.06-.94-.94-2.06-.94 2.06-2.06.94z\"/><path d=\"M17.41 7.96l-1.37-1.37c-.4-.4-.92-.59-1.43-.59-.52 0-1.04.2-1.43.59L10.3 9.45l-7.72 7.72c-.78.78-.78 2.05 0 2.83L4 21.41c.39.39.9.59 1.41.59.51 0 1.02-.2 1.41-.59l7.78-7.78 2.81-2.81c.8-.78.8-2.07 0-2.86zM5.41 20L4 18.59l7.72-7.72 1.47 1.35L5.41 20z\"/>\n",
              "  </svg>\n",
              "      </button>\n",
              "      \n",
              "  <style>\n",
              "    .colab-df-container {\n",
              "      display:flex;\n",
              "      flex-wrap:wrap;\n",
              "      gap: 12px;\n",
              "    }\n",
              "\n",
              "    .colab-df-convert {\n",
              "      background-color: #E8F0FE;\n",
              "      border: none;\n",
              "      border-radius: 50%;\n",
              "      cursor: pointer;\n",
              "      display: none;\n",
              "      fill: #1967D2;\n",
              "      height: 32px;\n",
              "      padding: 0 0 0 0;\n",
              "      width: 32px;\n",
              "    }\n",
              "\n",
              "    .colab-df-convert:hover {\n",
              "      background-color: #E2EBFA;\n",
              "      box-shadow: 0px 1px 2px rgba(60, 64, 67, 0.3), 0px 1px 3px 1px rgba(60, 64, 67, 0.15);\n",
              "      fill: #174EA6;\n",
              "    }\n",
              "\n",
              "    [theme=dark] .colab-df-convert {\n",
              "      background-color: #3B4455;\n",
              "      fill: #D2E3FC;\n",
              "    }\n",
              "\n",
              "    [theme=dark] .colab-df-convert:hover {\n",
              "      background-color: #434B5C;\n",
              "      box-shadow: 0px 1px 3px 1px rgba(0, 0, 0, 0.15);\n",
              "      filter: drop-shadow(0px 1px 2px rgba(0, 0, 0, 0.3));\n",
              "      fill: #FFFFFF;\n",
              "    }\n",
              "  </style>\n",
              "\n",
              "      <script>\n",
              "        const buttonEl =\n",
              "          document.querySelector('#df-d71a5d66-e584-41cc-8813-0896af546cde button.colab-df-convert');\n",
              "        buttonEl.style.display =\n",
              "          google.colab.kernel.accessAllowed ? 'block' : 'none';\n",
              "\n",
              "        async function convertToInteractive(key) {\n",
              "          const element = document.querySelector('#df-d71a5d66-e584-41cc-8813-0896af546cde');\n",
              "          const dataTable =\n",
              "            await google.colab.kernel.invokeFunction('convertToInteractive',\n",
              "                                                     [key], {});\n",
              "          if (!dataTable) return;\n",
              "\n",
              "          const docLinkHtml = 'Like what you see? Visit the ' +\n",
              "            '<a target=\"_blank\" href=https://colab.research.google.com/notebooks/data_table.ipynb>data table notebook</a>'\n",
              "            + ' to learn more about interactive tables.';\n",
              "          element.innerHTML = '';\n",
              "          dataTable['output_type'] = 'display_data';\n",
              "          await google.colab.output.renderOutput(dataTable, element);\n",
              "          const docLink = document.createElement('div');\n",
              "          docLink.innerHTML = docLinkHtml;\n",
              "          element.appendChild(docLink);\n",
              "        }\n",
              "      </script>\n",
              "    </div>\n",
              "  </div>\n",
              "  "
            ]
          },
          "metadata": {},
          "execution_count": 2
        }
      ],
      "source": [
        "# Loading the dataset\n",
        "\n",
        "df = pd.read_csv(\"Dataset.csv\")\n",
        "\n",
        "output_classes = len(pd.unique(df['y'])) \n",
        "\n",
        "X = df.copy();\n",
        "y = X.pop('y')\n",
        "\n",
        "input_features = X.shape[1]\n",
        "\n",
        "df.head()"
      ]
    },
    {
      "cell_type": "code",
      "execution_count": 3,
      "id": "cb6a9419",
      "metadata": {
        "colab": {
          "base_uri": "https://localhost:8080/"
        },
        "id": "cb6a9419",
        "outputId": "efd28d57-9c07-45c2-c54a-59a374b327df"
      },
      "outputs": [
        {
          "output_type": "stream",
          "name": "stdout",
          "text": [
            "The dataset contains 3 input features and 2 output classes\n"
          ]
        }
      ],
      "source": [
        "print(\"The dataset contains {} input features and {} output classes\".format(input_features, output_classes))"
      ]
    },
    {
      "cell_type": "code",
      "execution_count": 4,
      "id": "29c22ad7",
      "metadata": {
        "colab": {
          "base_uri": "https://localhost:8080/"
        },
        "id": "29c22ad7",
        "outputId": "3a2dd63f-d5f1-43a9-9c48-2c418429bf17"
      },
      "outputs": [
        {
          "output_type": "stream",
          "name": "stdout",
          "text": [
            "Input features shape for training: (800, 3)\n",
            "Target variables shape for training: (800, 1)\n",
            "Input features shape for testing: (200, 3)\n",
            "Target variables shape for testing: (200, 1)\n"
          ]
        }
      ],
      "source": [
        "# Splitting the dataset\n",
        "\n",
        "X_train, X_test, y_train, y_test = train_test_split(X, y, test_size=0.2, shuffle=False)\n",
        "\n",
        "# Convert to NumPy arrays\n",
        "\n",
        "X_train = X_train.values\n",
        "y_train = y_train.values.reshape(-1,1)\n",
        "\n",
        "X_test = X_test.values\n",
        "y_test = y_test.values.reshape(-1,1)\n",
        "\n",
        "print(\"Input features shape for training: {}\".format(X_train.shape))\n",
        "print(\"Target variables shape for training: {}\".format(y_train.shape))\n",
        "\n",
        "print(\"Input features shape for testing: {}\".format(X_test.shape))\n",
        "print(\"Target variables shape for testing: {}\".format(y_test.shape))"
      ]
    },
    {
      "cell_type": "markdown",
      "id": "de96e4a3",
      "metadata": {
        "id": "de96e4a3"
      },
      "source": [
        "### Neural Network using NumPy library"
      ]
    },
    {
      "cell_type": "code",
      "execution_count": 5,
      "id": "20c30d8b",
      "metadata": {
        "id": "20c30d8b"
      },
      "outputs": [],
      "source": [
        "\"\"\"\n",
        "\n",
        "An artificial neural network composed by 3 layers:\n",
        "\n",
        "- 1st (input) layer: 3 neurons\n",
        "- 2nd (hidden) layer: 2 neurons\n",
        "- 3rd (output) layer: 1 neuron\n",
        "\n",
        "\"\"\"\n",
        "class NeuralNetwork:\n",
        "    def __init__(self):\n",
        "        # initializing the variables\n",
        "        self.epoch=1000 # number of training iterations\n",
        "        self.lr=0.1 # learning rate\n",
        "        self.inputlayer_neurons = X_train.shape[1] # number of features in data set\n",
        "        self.hiddenlayer_neurons = 2 # number of hidden layers neurons\n",
        "        self.output_neurons = 1 # number of neurons at output layer\n",
        "\n",
        "        # initializing weight and bias\n",
        "        self.wh=np.random.uniform(size=(self.inputlayer_neurons,self.hiddenlayer_neurons))\n",
        "        self.bh=np.random.uniform(size=(1,self.hiddenlayer_neurons))\n",
        "        self.wout=np.random.uniform(size=(self.hiddenlayer_neurons,self.output_neurons))\n",
        "        self.bout=np.random.uniform(size=(1,self.output_neurons))\n",
        "\n",
        "    # defining the Sigmoid Function\n",
        "    def sigmoid (self, x):\n",
        "        return 1/(1 + np.exp(-x))\n",
        "\n",
        "    # derivative of Sigmoid Function\n",
        "    def derivatives_sigmoid(self, x):\n",
        "        return x * (1 - x)\n",
        "\n",
        "    #Fitting the model\n",
        "    def fit(self, X_train, y_train):\n",
        "\n",
        "        # training the model\n",
        "        for i in range(self.epoch):\n",
        "\n",
        "            #Forward Propogation\n",
        "            hidden_layer_input1=np.dot(X_train,self.wh) # hidden layer input\n",
        "            hidden_layer_input=hidden_layer_input1 + self.bh\n",
        "            hiddenlayer_activations = self.sigmoid(hidden_layer_input) # hidden layer output\n",
        "            \n",
        "            output_layer_input1=np.dot(hiddenlayer_activations,self.wout) # output layer's input\n",
        "            output_layer_input= output_layer_input1+ self.bout\n",
        "            output = self.sigmoid(output_layer_input) # output layer's output\n",
        "\n",
        "            #Backpropagation\n",
        "            E = y_train-output # Calculating the Error\n",
        "            slope_output_layer = self.derivatives_sigmoid(output) \n",
        "            slope_hidden_layer = self.derivatives_sigmoid(hiddenlayer_activations)\n",
        "            d_output = E * slope_output_layer\n",
        "            Error_at_hidden_layer = d_output.dot(self.wout.T)\n",
        "            d_hiddenlayer = Error_at_hidden_layer * slope_hidden_layer\n",
        "            \n",
        "            self.wout += hiddenlayer_activations.T.dot(d_output) *self.lr #Updating the weights for output layer\n",
        "            self.bout += np.sum(d_output, axis=0,keepdims=True) *self.lr  #Updating the bias for output layer\n",
        "            self.wh += X_train.T.dot(d_hiddenlayer) *self.lr              #Updating the weights for hidden layer\n",
        "            self.bh += np.sum(d_hiddenlayer, axis=0,keepdims=True) *self.lr  #Updating the bias for hidden layer\n",
        "    \n",
        "    # function for prediction on test data\n",
        "    def predict(self, X_test):\n",
        "        '''\n",
        "        Predicts on a test data\n",
        "        '''\n",
        "        Z1 = X_test.dot(self.wh) + self.bh\n",
        "        A1 = self.sigmoid(Z1)\n",
        "        Z2 = A1.dot(self.wout) + self.bout\n",
        "        pred = self.sigmoid(Z2)\n",
        "        \n",
        "        return np.round(pred) \n",
        "    \n",
        "    # funcation for calcuating accuracy of the model  \n",
        "    def accuracy(self, y_pred, y_test):\n",
        "        assertions = 0\n",
        "        total_predictions = len(y_pred)\n",
        "        for i in range(total_predictions -1):\n",
        "            if y_pred[i] == y_test[i]:\n",
        "                assertions += 1\n",
        "        \n",
        "        return assertions / total_predictions"
      ]
    },
    {
      "cell_type": "code",
      "execution_count": 6,
      "id": "9bdb884c",
      "metadata": {
        "id": "9bdb884c"
      },
      "outputs": [],
      "source": [
        "model1 = NeuralNetwork()"
      ]
    },
    {
      "cell_type": "code",
      "execution_count": 7,
      "id": "8631450a",
      "metadata": {
        "id": "8631450a"
      },
      "outputs": [],
      "source": [
        "model1.fit(X_train, y_train)"
      ]
    },
    {
      "cell_type": "code",
      "execution_count": 8,
      "id": "f11cb064",
      "metadata": {
        "id": "f11cb064"
      },
      "outputs": [],
      "source": [
        "y_pred = model1.predict(X_test)"
      ]
    },
    {
      "cell_type": "code",
      "execution_count": 9,
      "id": "3a27179c",
      "metadata": {
        "colab": {
          "base_uri": "https://localhost:8080/"
        },
        "id": "3a27179c",
        "outputId": "61e12a3b-022e-400b-f2f3-3c9704a6b8cc"
      },
      "outputs": [
        {
          "output_type": "stream",
          "name": "stdout",
          "text": [
            "0.945\n"
          ]
        }
      ],
      "source": [
        "results1 = model1.accuracy(y_pred, y_test)\n",
        "print(results1)"
      ]
    },
    {
      "cell_type": "markdown",
      "id": "18e632c8",
      "metadata": {
        "id": "18e632c8"
      },
      "source": [
        "### Neural Network using Keras library"
      ]
    },
    {
      "cell_type": "code",
      "execution_count": 10,
      "id": "c43304fd",
      "metadata": {
        "id": "c43304fd"
      },
      "outputs": [],
      "source": [
        "# Importing libraries for NN\n",
        "import tensorflow as tf\n",
        "from tensorflow.keras.models import Sequential\n",
        "from tensorflow.keras.layers import Dense"
      ]
    },
    {
      "cell_type": "code",
      "execution_count": 11,
      "id": "b2b7896e",
      "metadata": {
        "id": "b2b7896e"
      },
      "outputs": [],
      "source": [
        "# Function that creates a model using Keras library\n",
        "def create_keras_model():\n",
        "    \n",
        "    # Create an instance of Sequential class\n",
        "    model = Sequential()\n",
        "    \n",
        "    # Add layers\n",
        "    # model.add(Dense(3, input_dim=3, activation='sigmoid'))\n",
        "    model.add(Dense(2, input_dim=3, activation='sigmoid'))\n",
        "    model.add(Dense(1, activation='sigmoid'))\n",
        "    \n",
        "    # Compile the model\n",
        "    model.compile(loss='binary_crossentropy', optimizer='adam', metrics=['accuracy'])\n",
        "    \n",
        "    return model"
      ]
    },
    {
      "cell_type": "code",
      "execution_count": 12,
      "id": "f618fbd2",
      "metadata": {
        "colab": {
          "base_uri": "https://localhost:8080/"
        },
        "id": "f618fbd2",
        "outputId": "a2b16c0f-6837-4200-c516-bbae6b338163"
      },
      "outputs": [
        {
          "output_type": "stream",
          "name": "stdout",
          "text": [
            "Model: \"sequential\"\n",
            "_________________________________________________________________\n",
            " Layer (type)                Output Shape              Param #   \n",
            "=================================================================\n",
            " dense (Dense)               (None, 2)                 8         \n",
            "                                                                 \n",
            " dense_1 (Dense)             (None, 1)                 3         \n",
            "                                                                 \n",
            "=================================================================\n",
            "Total params: 11\n",
            "Trainable params: 11\n",
            "Non-trainable params: 0\n",
            "_________________________________________________________________\n"
          ]
        }
      ],
      "source": [
        "# Model creation using function\n",
        "model2 = create_keras_model()\n",
        "\n",
        "# Model summary\n",
        "model2.summary()"
      ]
    },
    {
      "cell_type": "code",
      "execution_count": 13,
      "id": "937ff907",
      "metadata": {
        "colab": {
          "base_uri": "https://localhost:8080/"
        },
        "id": "937ff907",
        "outputId": "a16ea94a-f2b8-4cfa-de0a-072559fec59e"
      },
      "outputs": [
        {
          "output_type": "execute_result",
          "data": {
            "text/plain": [
              "<keras.callbacks.History at 0x7f2129614610>"
            ]
          },
          "metadata": {},
          "execution_count": 13
        }
      ],
      "source": [
        "epochs =1000\n",
        "# Training the model\n",
        "model2.fit(X_train, y_train, batch_size = 50, epochs = epochs, verbose = 0)"
      ]
    },
    {
      "cell_type": "code",
      "execution_count": 14,
      "id": "50f6eefa",
      "metadata": {
        "colab": {
          "base_uri": "https://localhost:8080/"
        },
        "id": "50f6eefa",
        "outputId": "3681bab2-420f-4c4f-fdd8-e1c2215c47e9"
      },
      "outputs": [
        {
          "output_type": "stream",
          "name": "stdout",
          "text": [
            "7/7 [==============================] - 0s 2ms/step - loss: 0.0867 - accuracy: 0.9500\n"
          ]
        }
      ],
      "source": [
        "results2 = model2.evaluate(X_test, y_test)"
      ]
    },
    {
      "cell_type": "code",
      "execution_count": 15,
      "id": "058f67b4",
      "metadata": {
        "colab": {
          "base_uri": "https://localhost:8080/"
        },
        "id": "058f67b4",
        "outputId": "76c1ec1d-c501-4e6f-c754-487946fa5785"
      },
      "outputs": [
        {
          "output_type": "stream",
          "name": "stdout",
          "text": [
            "['loss', 'accuracy']\n",
            "The accuracy using Keras library is: 0.949999988079071\n"
          ]
        }
      ],
      "source": [
        "print(model2.metrics_names)     # list of metric names the model is employing\n",
        "\n",
        "print(\"The accuracy using Keras library is: {}\".format(results2[1]))"
      ]
    },
    {
      "cell_type": "markdown",
      "id": "101c6cbc",
      "metadata": {
        "id": "101c6cbc"
      },
      "source": [
        "### Comparison between both models"
      ]
    },
    {
      "cell_type": "code",
      "execution_count": 16,
      "id": "21a300f5",
      "metadata": {
        "colab": {
          "base_uri": "https://localhost:8080/"
        },
        "id": "21a300f5",
        "outputId": "b48d83b4-d87a-48de-f5d4-404cab956993"
      },
      "outputs": [
        {
          "output_type": "stream",
          "name": "stdout",
          "text": [
            "Accuracy of ANN model implemented using Numpy is:  0.94\n",
            "Accuracy of ANN model implemented using Keras is:  0.95\n"
          ]
        }
      ],
      "source": [
        "# Here we can compare the accuracy obtained in both models and the reasons.\n",
        "print(\"Accuracy of ANN model implemented using Numpy is: \", round(results1,2))\n",
        "print(\"Accuracy of ANN model implemented using Keras is: \", round(results2[1],2))"
      ]
    },
    {
      "cell_type": "code",
      "execution_count": 16,
      "id": "2836ca6d",
      "metadata": {
        "id": "2836ca6d"
      },
      "outputs": [],
      "source": []
    }
  ],
  "metadata": {
    "kernelspec": {
      "display_name": "Python 3 (ipykernel)",
      "language": "python",
      "name": "python3"
    },
    "language_info": {
      "codemirror_mode": {
        "name": "ipython",
        "version": 3
      },
      "file_extension": ".py",
      "mimetype": "text/x-python",
      "name": "python",
      "nbconvert_exporter": "python",
      "pygments_lexer": "ipython3",
      "version": "3.9.7"
    },
    "colab": {
      "provenance": [],
      "include_colab_link": true
    }
  },
  "nbformat": 4,
  "nbformat_minor": 5
}