{
  "nbformat": 4,
  "nbformat_minor": 0,
  "metadata": {
    "colab": {
      "provenance": [],
      "authorship_tag": "ABX9TyO79n8tckoxu2CIOkuLOjws",
      "include_colab_link": true
    },
    "kernelspec": {
      "name": "python3",
      "display_name": "Python 3"
    },
    "language_info": {
      "name": "python"
    },
    "accelerator": "GPU",
    "gpuClass": "standard"
  },
  "cells": [
    {
      "cell_type": "markdown",
      "metadata": {
        "id": "view-in-github",
        "colab_type": "text"
      },
      "source": [
        "<a href=\"https://colab.research.google.com/github/amitsiwach/Deep_Learning_notebooks/blob/main/All_optimizers.ipynb\" target=\"_parent\"><img src=\"https://colab.research.google.com/assets/colab-badge.svg\" alt=\"Open In Colab\"/></a>"
      ]
    },
    {
      "cell_type": "code",
      "source": [
        "import tensorflow as tf\n",
        "import numpy as np\n",
        "import matplotlib.pyplot as plt\n",
        "import pandas as pd\n",
        "import os"
      ],
      "metadata": {
        "id": "Kcd2hU4VVuD_"
      },
      "execution_count": 1,
      "outputs": []
    },
    {
      "cell_type": "code",
      "source": [
        "mnist = tf.keras.datasets.mnist\n",
        "\n",
        "(X_train_full, y_train_full), (X_test, y_test) = mnist.load_data()"
      ],
      "metadata": {
        "id": "Z0wisYWeWr4h",
        "colab": {
          "base_uri": "https://localhost:8080/"
        },
        "outputId": "ba2b3ff6-26cc-48bf-ffde-d39eb0cf63f3"
      },
      "execution_count": 2,
      "outputs": [
        {
          "output_type": "stream",
          "name": "stdout",
          "text": [
            "Downloading data from https://storage.googleapis.com/tensorflow/tf-keras-datasets/mnist.npz\n",
            "11490434/11490434 [==============================] - 2s 0us/step\n"
          ]
        }
      ]
    },
    {
      "cell_type": "code",
      "source": [
        "X_train_full.shape, y_train_full.shape"
      ],
      "metadata": {
        "colab": {
          "base_uri": "https://localhost:8080/"
        },
        "id": "8CNzJVwdXrgd",
        "outputId": "773e4ada-65a9-4055-be88-3f964f8f87e1"
      },
      "execution_count": 3,
      "outputs": [
        {
          "output_type": "execute_result",
          "data": {
            "text/plain": [
              "((60000, 28, 28), (60000,))"
            ]
          },
          "metadata": {},
          "execution_count": 3
        }
      ]
    },
    {
      "cell_type": "code",
      "source": [
        "X_test.shape, y_test.shape"
      ],
      "metadata": {
        "colab": {
          "base_uri": "https://localhost:8080/"
        },
        "id": "6l6inTRsX4jX",
        "outputId": "3fff641b-94a5-441a-cf79-e1a80098d9a4"
      },
      "execution_count": 4,
      "outputs": [
        {
          "output_type": "execute_result",
          "data": {
            "text/plain": [
              "((10000, 28, 28), (10000,))"
            ]
          },
          "metadata": {},
          "execution_count": 4
        }
      ]
    },
    {
      "cell_type": "code",
      "source": [
        "X_valid, X_train = X_train_full[:5000]/255.0, X_train_full[5000:]/255.0\n",
        "y_valid, y_train = y_train_full[:5000], y_train_full[5000:]"
      ],
      "metadata": {
        "id": "Ya9s3BOwaa1i"
      },
      "execution_count": 5,
      "outputs": []
    },
    {
      "cell_type": "code",
      "source": [
        "early_stopping_cb = tf.keras.callbacks.EarlyStopping(patience=5, restore_best_weights=True)\n",
        "\n",
        "LAYERS = [tf.keras.layers.Flatten(input_shape = [28,28], name = \"inputLayer\"),\n",
        "         tf.keras.layers.Dense(300,activation=\"relu\", name = \"hiddenlayer1\"),\n",
        "         tf.keras.layers.Dense(100,activation=\"relu\", name = \"hiddenlayer2\"),\n",
        "         tf.keras.layers.Dense(10,activation=\"softmax\", name = \"outputLayer\")]\n",
        "\n",
        "EPOCHS = 50\n",
        "VALIDATION_SET = (X_valid, y_valid)"
      ],
      "metadata": {
        "id": "_cG2vZpQEwrB"
      },
      "execution_count": 6,
      "outputs": []
    },
    {
      "cell_type": "markdown",
      "source": [
        "### **1. Stochastic Gradient Descent(SGD)**"
      ],
      "metadata": {
        "id": "jwWqHFUmVJEY"
      }
    },
    {
      "cell_type": "code",
      "source": [
        "model_clf = tf.keras.models.Sequential(LAYERS)\n",
        "\n",
        "model_clf.compile(loss = tf.losses.sparse_categorical_crossentropy,\n",
        "                  optimizer = tf.keras.optimizers.SGD(0.02),\n",
        "                  metrics = [\"accuracy\"])\n",
        "\n",
        "history = model_clf.fit(X_train, y_train, epochs= EPOCHS, validation_data= VALIDATION_SET, verbose=2, batch_size=32, callbacks=[early_stopping_cb])"
      ],
      "metadata": {
        "id": "DoE-kv7eVLjc",
        "colab": {
          "base_uri": "https://localhost:8080/"
        },
        "outputId": "8fef8c11-1ea3-4f18-fe90-5ebae758191d"
      },
      "execution_count": 7,
      "outputs": [
        {
          "output_type": "stream",
          "name": "stdout",
          "text": [
            "Epoch 1/50\n",
            "1719/1719 - 9s - loss: 0.4494 - accuracy: 0.8790 - val_loss: 0.2397 - val_accuracy: 0.9304 - 9s/epoch - 5ms/step\n",
            "Epoch 2/50\n",
            "1719/1719 - 5s - loss: 0.2261 - accuracy: 0.9351 - val_loss: 0.1785 - val_accuracy: 0.9502 - 5s/epoch - 3ms/step\n",
            "Epoch 3/50\n",
            "1719/1719 - 4s - loss: 0.1726 - accuracy: 0.9500 - val_loss: 0.1411 - val_accuracy: 0.9604 - 4s/epoch - 2ms/step\n",
            "Epoch 4/50\n",
            "1719/1719 - 4s - loss: 0.1382 - accuracy: 0.9601 - val_loss: 0.1244 - val_accuracy: 0.9634 - 4s/epoch - 2ms/step\n",
            "Epoch 5/50\n",
            "1719/1719 - 4s - loss: 0.1148 - accuracy: 0.9672 - val_loss: 0.1071 - val_accuracy: 0.9706 - 4s/epoch - 2ms/step\n",
            "Epoch 6/50\n",
            "1719/1719 - 4s - loss: 0.0979 - accuracy: 0.9723 - val_loss: 0.0974 - val_accuracy: 0.9716 - 4s/epoch - 2ms/step\n",
            "Epoch 7/50\n",
            "1719/1719 - 4s - loss: 0.0845 - accuracy: 0.9760 - val_loss: 0.0953 - val_accuracy: 0.9732 - 4s/epoch - 2ms/step\n",
            "Epoch 8/50\n",
            "1719/1719 - 4s - loss: 0.0735 - accuracy: 0.9792 - val_loss: 0.0900 - val_accuracy: 0.9744 - 4s/epoch - 2ms/step\n",
            "Epoch 9/50\n",
            "1719/1719 - 4s - loss: 0.0650 - accuracy: 0.9812 - val_loss: 0.0827 - val_accuracy: 0.9762 - 4s/epoch - 2ms/step\n",
            "Epoch 10/50\n",
            "1719/1719 - 4s - loss: 0.0575 - accuracy: 0.9840 - val_loss: 0.0760 - val_accuracy: 0.9786 - 4s/epoch - 2ms/step\n",
            "Epoch 11/50\n",
            "1719/1719 - 4s - loss: 0.0510 - accuracy: 0.9858 - val_loss: 0.0737 - val_accuracy: 0.9788 - 4s/epoch - 2ms/step\n",
            "Epoch 12/50\n",
            "1719/1719 - 4s - loss: 0.0454 - accuracy: 0.9879 - val_loss: 0.0713 - val_accuracy: 0.9796 - 4s/epoch - 2ms/step\n",
            "Epoch 13/50\n",
            "1719/1719 - 4s - loss: 0.0407 - accuracy: 0.9891 - val_loss: 0.0756 - val_accuracy: 0.9788 - 4s/epoch - 3ms/step\n",
            "Epoch 14/50\n",
            "1719/1719 - 4s - loss: 0.0364 - accuracy: 0.9905 - val_loss: 0.0727 - val_accuracy: 0.9792 - 4s/epoch - 2ms/step\n",
            "Epoch 15/50\n",
            "1719/1719 - 4s - loss: 0.0331 - accuracy: 0.9917 - val_loss: 0.0732 - val_accuracy: 0.9784 - 4s/epoch - 3ms/step\n",
            "Epoch 16/50\n",
            "1719/1719 - 4s - loss: 0.0294 - accuracy: 0.9927 - val_loss: 0.0667 - val_accuracy: 0.9810 - 4s/epoch - 2ms/step\n",
            "Epoch 17/50\n",
            "1719/1719 - 4s - loss: 0.0263 - accuracy: 0.9938 - val_loss: 0.0664 - val_accuracy: 0.9800 - 4s/epoch - 2ms/step\n",
            "Epoch 18/50\n",
            "1719/1719 - 5s - loss: 0.0240 - accuracy: 0.9945 - val_loss: 0.0668 - val_accuracy: 0.9792 - 5s/epoch - 3ms/step\n",
            "Epoch 19/50\n",
            "1719/1719 - 4s - loss: 0.0212 - accuracy: 0.9953 - val_loss: 0.0657 - val_accuracy: 0.9814 - 4s/epoch - 2ms/step\n",
            "Epoch 20/50\n",
            "1719/1719 - 4s - loss: 0.0192 - accuracy: 0.9960 - val_loss: 0.0664 - val_accuracy: 0.9806 - 4s/epoch - 2ms/step\n",
            "Epoch 21/50\n",
            "1719/1719 - 4s - loss: 0.0172 - accuracy: 0.9970 - val_loss: 0.0664 - val_accuracy: 0.9816 - 4s/epoch - 2ms/step\n",
            "Epoch 22/50\n",
            "1719/1719 - 5s - loss: 0.0155 - accuracy: 0.9973 - val_loss: 0.0659 - val_accuracy: 0.9810 - 5s/epoch - 3ms/step\n",
            "Epoch 23/50\n",
            "1719/1719 - 4s - loss: 0.0141 - accuracy: 0.9979 - val_loss: 0.0661 - val_accuracy: 0.9814 - 4s/epoch - 2ms/step\n",
            "Epoch 24/50\n",
            "1719/1719 - 4s - loss: 0.0128 - accuracy: 0.9983 - val_loss: 0.0663 - val_accuracy: 0.9794 - 4s/epoch - 2ms/step\n"
          ]
        }
      ]
    },
    {
      "cell_type": "markdown",
      "source": [
        "### **2. Momentum Optimization**"
      ],
      "metadata": {
        "id": "vb3J0CozszXi"
      }
    },
    {
      "cell_type": "code",
      "source": [
        "del model_clf\n",
        "\n",
        "model_clf = tf.keras.models.Sequential(LAYERS)\n",
        "\n",
        "model_clf.compile(loss = tf.losses.sparse_categorical_crossentropy,\n",
        "                  optimizer = tf.keras.optimizers.SGD(learning_rate=0.02, momentum=0.9),\n",
        "                  metrics = [\"accuracy\"])\n",
        "\n",
        "history = model_clf.fit(X_train, y_train, epochs= EPOCHS, validation_data= VALIDATION_SET, verbose=2, batch_size=32, callbacks=[early_stopping_cb])"
      ],
      "metadata": {
        "id": "gLgmIlp_ERVe",
        "colab": {
          "base_uri": "https://localhost:8080/"
        },
        "outputId": "a08c60e7-5374-4800-be47-3d2643e27bea"
      },
      "execution_count": 8,
      "outputs": [
        {
          "output_type": "stream",
          "name": "stdout",
          "text": [
            "Epoch 1/50\n",
            "1719/1719 - 5s - loss: 0.1122 - accuracy: 0.9645 - val_loss: 0.0864 - val_accuracy: 0.9746 - 5s/epoch - 3ms/step\n",
            "Epoch 2/50\n",
            "1719/1719 - 4s - loss: 0.0654 - accuracy: 0.9786 - val_loss: 0.0886 - val_accuracy: 0.9698 - 4s/epoch - 2ms/step\n",
            "Epoch 3/50\n",
            "1719/1719 - 4s - loss: 0.0450 - accuracy: 0.9853 - val_loss: 0.0834 - val_accuracy: 0.9762 - 4s/epoch - 2ms/step\n",
            "Epoch 4/50\n",
            "1719/1719 - 4s - loss: 0.0317 - accuracy: 0.9898 - val_loss: 0.0775 - val_accuracy: 0.9798 - 4s/epoch - 2ms/step\n",
            "Epoch 5/50\n",
            "1719/1719 - 4s - loss: 0.0228 - accuracy: 0.9927 - val_loss: 0.0783 - val_accuracy: 0.9790 - 4s/epoch - 2ms/step\n",
            "Epoch 6/50\n",
            "1719/1719 - 4s - loss: 0.0193 - accuracy: 0.9935 - val_loss: 0.0802 - val_accuracy: 0.9802 - 4s/epoch - 2ms/step\n",
            "Epoch 7/50\n",
            "1719/1719 - 4s - loss: 0.0152 - accuracy: 0.9949 - val_loss: 0.0713 - val_accuracy: 0.9812 - 4s/epoch - 2ms/step\n",
            "Epoch 8/50\n",
            "1719/1719 - 4s - loss: 0.0096 - accuracy: 0.9971 - val_loss: 0.0817 - val_accuracy: 0.9822 - 4s/epoch - 2ms/step\n",
            "Epoch 9/50\n",
            "1719/1719 - 4s - loss: 0.0072 - accuracy: 0.9978 - val_loss: 0.0798 - val_accuracy: 0.9814 - 4s/epoch - 2ms/step\n",
            "Epoch 10/50\n",
            "1719/1719 - 4s - loss: 0.0068 - accuracy: 0.9980 - val_loss: 0.0927 - val_accuracy: 0.9790 - 4s/epoch - 2ms/step\n",
            "Epoch 11/50\n",
            "1719/1719 - 4s - loss: 0.0059 - accuracy: 0.9983 - val_loss: 0.0774 - val_accuracy: 0.9828 - 4s/epoch - 2ms/step\n",
            "Epoch 12/50\n",
            "1719/1719 - 4s - loss: 0.0022 - accuracy: 0.9994 - val_loss: 0.0806 - val_accuracy: 0.9824 - 4s/epoch - 2ms/step\n"
          ]
        }
      ]
    },
    {
      "cell_type": "markdown",
      "source": [
        "### **3.Nestrov Accelerated Gradient(NAG)**"
      ],
      "metadata": {
        "id": "aMSNN1YAvPSa"
      }
    },
    {
      "cell_type": "code",
      "source": [
        "del model_clf\n",
        "\n",
        "model_clf = tf.keras.models.Sequential(LAYERS)\n",
        "\n",
        "model_clf.compile(loss = tf.losses.sparse_categorical_crossentropy,\n",
        "                  optimizer = tf.keras.optimizers.SGD(learning_rate=0.02, momentum=0.9, nesterov=True),\n",
        "                  metrics = [\"accuracy\"])\n",
        "\n",
        "history = model_clf.fit(X_train, y_train, epochs= EPOCHS, validation_data= VALIDATION_SET, verbose=2, batch_size=32, callbacks=[early_stopping_cb])"
      ],
      "metadata": {
        "colab": {
          "base_uri": "https://localhost:8080/"
        },
        "id": "WjuwdGyTvKC0",
        "outputId": "47424e33-dead-484d-c3ed-042bbf0bce76"
      },
      "execution_count": 9,
      "outputs": [
        {
          "output_type": "stream",
          "name": "stdout",
          "text": [
            "Epoch 1/50\n",
            "1719/1719 - 5s - loss: 0.0094 - accuracy: 0.9969 - val_loss: 0.0970 - val_accuracy: 0.9782 - 5s/epoch - 3ms/step\n",
            "Epoch 2/50\n",
            "1719/1719 - 4s - loss: 0.0107 - accuracy: 0.9964 - val_loss: 0.0792 - val_accuracy: 0.9818 - 4s/epoch - 2ms/step\n",
            "Epoch 3/50\n",
            "1719/1719 - 4s - loss: 0.0055 - accuracy: 0.9984 - val_loss: 0.0727 - val_accuracy: 0.9846 - 4s/epoch - 2ms/step\n",
            "Epoch 4/50\n",
            "1719/1719 - 5s - loss: 0.0024 - accuracy: 0.9993 - val_loss: 0.0710 - val_accuracy: 0.9850 - 5s/epoch - 3ms/step\n",
            "Epoch 5/50\n",
            "1719/1719 - 4s - loss: 8.7837e-04 - accuracy: 0.9998 - val_loss: 0.0734 - val_accuracy: 0.9844 - 4s/epoch - 2ms/step\n",
            "Epoch 6/50\n",
            "1719/1719 - 4s - loss: 6.7114e-04 - accuracy: 0.9999 - val_loss: 0.0739 - val_accuracy: 0.9854 - 4s/epoch - 2ms/step\n",
            "Epoch 7/50\n",
            "1719/1719 - 4s - loss: 2.3121e-04 - accuracy: 1.0000 - val_loss: 0.0741 - val_accuracy: 0.9862 - 4s/epoch - 2ms/step\n",
            "Epoch 8/50\n",
            "1719/1719 - 4s - loss: 1.4092e-04 - accuracy: 1.0000 - val_loss: 0.0748 - val_accuracy: 0.9864 - 4s/epoch - 2ms/step\n",
            "Epoch 9/50\n",
            "1719/1719 - 4s - loss: 1.2101e-04 - accuracy: 1.0000 - val_loss: 0.0762 - val_accuracy: 0.9864 - 4s/epoch - 2ms/step\n"
          ]
        }
      ]
    },
    {
      "cell_type": "markdown",
      "source": [
        "### **4.AdaGrad (Adaptive Gradient Algorithm)**"
      ],
      "metadata": {
        "id": "VxT8kN5EVqTx"
      }
    },
    {
      "cell_type": "markdown",
      "source": [
        "Adagrad stops early before reaching Global Minima, so it is not recommended to use"
      ],
      "metadata": {
        "id": "Dtw8IvXLV3ec"
      }
    },
    {
      "cell_type": "markdown",
      "source": [
        "### **5.RMS (Root Mean Squared) Propagation**"
      ],
      "metadata": {
        "id": "k3im4YaOUu_z"
      }
    },
    {
      "cell_type": "code",
      "source": [
        "del model_clf\n",
        "\n",
        "model_clf = tf.keras.models.Sequential(LAYERS)\n",
        "\n",
        "model_clf.compile(loss = tf.losses.sparse_categorical_crossentropy,\n",
        "                  optimizer = tf.keras.optimizers.RMSprop(learning_rate=0.01, rho=0.9), #rho is beta here\n",
        "                  metrics = [\"accuracy\"])\n",
        "\n",
        "history = model_clf.fit(X_train, y_train, epochs= EPOCHS, validation_data= VALIDATION_SET, verbose=2, batch_size=32, callbacks=[early_stopping_cb])"
      ],
      "metadata": {
        "id": "1gsckzowv6y7",
        "outputId": "31d75e10-609b-48bf-b26b-830657c93cd6",
        "colab": {
          "base_uri": "https://localhost:8080/"
        }
      },
      "execution_count": 10,
      "outputs": [
        {
          "output_type": "stream",
          "name": "stdout",
          "text": [
            "Epoch 1/50\n",
            "1719/1719 - 5s - loss: 0.4172 - accuracy: 0.9238 - val_loss: 0.3873 - val_accuracy: 0.9370 - 5s/epoch - 3ms/step\n",
            "Epoch 2/50\n",
            "1719/1719 - 5s - loss: 0.3536 - accuracy: 0.9389 - val_loss: 0.4298 - val_accuracy: 0.9428 - 5s/epoch - 3ms/step\n",
            "Epoch 3/50\n",
            "1719/1719 - 5s - loss: 0.3947 - accuracy: 0.9431 - val_loss: 0.5168 - val_accuracy: 0.9202 - 5s/epoch - 3ms/step\n",
            "Epoch 4/50\n",
            "1719/1719 - 5s - loss: 0.4145 - accuracy: 0.9391 - val_loss: 0.4601 - val_accuracy: 0.9216 - 5s/epoch - 3ms/step\n",
            "Epoch 5/50\n",
            "1719/1719 - 5s - loss: 0.4519 - accuracy: 0.9373 - val_loss: 0.4311 - val_accuracy: 0.9476 - 5s/epoch - 3ms/step\n",
            "Epoch 6/50\n",
            "1719/1719 - 5s - loss: 0.5009 - accuracy: 0.9284 - val_loss: 0.6449 - val_accuracy: 0.9176 - 5s/epoch - 3ms/step\n"
          ]
        }
      ]
    },
    {
      "cell_type": "markdown",
      "source": [
        "### **6.Adam (Adaptive Moment Estimation) Optimization**"
      ],
      "metadata": {
        "id": "eFXXCZkmY9Jp"
      }
    },
    {
      "cell_type": "code",
      "source": [
        "del model_clf\n",
        "\n",
        "model_clf = tf.keras.models.Sequential(LAYERS)\n",
        "\n",
        "model_clf.compile(loss = tf.losses.sparse_categorical_crossentropy,\n",
        "                  optimizer = tf.keras.optimizers.Adam(learning_rate=0.01, beta_1=0.9, beta_2=0.999),\n",
        "                  metrics = [\"accuracy\"])\n",
        "\n",
        "history = model_clf.fit(X_train, y_train, epochs= EPOCHS, validation_data= VALIDATION_SET, verbose=2, batch_size=32, callbacks=[early_stopping_cb])"
      ],
      "metadata": {
        "id": "EGpof4loYlEk",
        "outputId": "9c4c3a06-c479-48f5-def6-090d6e9e32db",
        "colab": {
          "base_uri": "https://localhost:8080/"
        }
      },
      "execution_count": 11,
      "outputs": [
        {
          "output_type": "stream",
          "name": "stdout",
          "text": [
            "Epoch 1/50\n",
            "1719/1719 - 6s - loss: 0.2382 - accuracy: 0.9419 - val_loss: 0.1862 - val_accuracy: 0.9538 - 6s/epoch - 3ms/step\n",
            "Epoch 2/50\n",
            "1719/1719 - 4s - loss: 0.1676 - accuracy: 0.9564 - val_loss: 0.1819 - val_accuracy: 0.9582 - 4s/epoch - 2ms/step\n",
            "Epoch 3/50\n",
            "1719/1719 - 4s - loss: 0.1572 - accuracy: 0.9609 - val_loss: 0.2048 - val_accuracy: 0.9626 - 4s/epoch - 3ms/step\n",
            "Epoch 4/50\n",
            "1719/1719 - 4s - loss: 0.1383 - accuracy: 0.9652 - val_loss: 0.2583 - val_accuracy: 0.9558 - 4s/epoch - 3ms/step\n",
            "Epoch 5/50\n",
            "1719/1719 - 5s - loss: 0.1332 - accuracy: 0.9664 - val_loss: 0.2389 - val_accuracy: 0.9578 - 5s/epoch - 3ms/step\n",
            "Epoch 6/50\n",
            "1719/1719 - 4s - loss: 0.1251 - accuracy: 0.9695 - val_loss: 0.2349 - val_accuracy: 0.9584 - 4s/epoch - 3ms/step\n",
            "Epoch 7/50\n",
            "1719/1719 - 4s - loss: 0.1275 - accuracy: 0.9692 - val_loss: 0.2166 - val_accuracy: 0.9650 - 4s/epoch - 3ms/step\n"
          ]
        }
      ]
    },
    {
      "cell_type": "code",
      "source": [],
      "metadata": {
        "id": "BgWj91o1bMrr"
      },
      "execution_count": 11,
      "outputs": []
    }
  ]
}