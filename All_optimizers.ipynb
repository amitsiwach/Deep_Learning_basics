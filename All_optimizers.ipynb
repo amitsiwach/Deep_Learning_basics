{
  "nbformat": 4,
  "nbformat_minor": 0,
  "metadata": {
    "colab": {
      "provenance": [],
      "authorship_tag": "ABX9TyMIAqYgf/01ulVc9R6Mt+cl",
      "include_colab_link": true
    },
    "kernelspec": {
      "name": "python3",
      "display_name": "Python 3"
    },
    "language_info": {
      "name": "python"
    },
    "accelerator": "GPU",
    "gpuClass": "standard"
  },
  "cells": [
    {
      "cell_type": "markdown",
      "metadata": {
        "id": "view-in-github",
        "colab_type": "text"
      },
      "source": [
        "<a href=\"https://colab.research.google.com/github/amitsiwach/Deep_Learning_notebooks/blob/main/All_optimizers.ipynb\" target=\"_parent\"><img src=\"https://colab.research.google.com/assets/colab-badge.svg\" alt=\"Open In Colab\"/></a>"
      ]
    },
    {
      "cell_type": "code",
      "source": [
        "import tensorflow as tf\n",
        "import numpy as np\n",
        "import matplotlib.pyplot as plt\n",
        "import pandas as pd\n",
        "import os"
      ],
      "metadata": {
        "id": "Kcd2hU4VVuD_"
      },
      "execution_count": 1,
      "outputs": []
    },
    {
      "cell_type": "code",
      "source": [
        "mnist = tf.keras.datasets.mnist\n",
        "\n",
        "(X_train_full, y_train_full), (X_test, y_test) = mnist.load_data()"
      ],
      "metadata": {
        "id": "Z0wisYWeWr4h"
      },
      "execution_count": 2,
      "outputs": []
    },
    {
      "cell_type": "code",
      "source": [
        "X_train_full.shape, y_train_full.shape"
      ],
      "metadata": {
        "colab": {
          "base_uri": "https://localhost:8080/"
        },
        "id": "8CNzJVwdXrgd",
        "outputId": "e372622b-5ebc-49ee-bb7b-4f0cf6410c08"
      },
      "execution_count": 3,
      "outputs": [
        {
          "output_type": "execute_result",
          "data": {
            "text/plain": [
              "((60000, 28, 28), (60000,))"
            ]
          },
          "metadata": {},
          "execution_count": 3
        }
      ]
    },
    {
      "cell_type": "code",
      "source": [
        "X_test.shape, y_test.shape"
      ],
      "metadata": {
        "colab": {
          "base_uri": "https://localhost:8080/"
        },
        "id": "6l6inTRsX4jX",
        "outputId": "b9229182-ab81-4a22-ab0e-bd6b9ef0ec11"
      },
      "execution_count": 4,
      "outputs": [
        {
          "output_type": "execute_result",
          "data": {
            "text/plain": [
              "((10000, 28, 28), (10000,))"
            ]
          },
          "metadata": {},
          "execution_count": 4
        }
      ]
    },
    {
      "cell_type": "code",
      "source": [
        "X_valid, X_train = X_train_full[:5000]/255.0, X_train_full[5000:]/255.0\n",
        "y_valid, y_train = y_train_full[:5000], y_train_full[5000:]"
      ],
      "metadata": {
        "id": "Ya9s3BOwaa1i"
      },
      "execution_count": 5,
      "outputs": []
    },
    {
      "cell_type": "code",
      "source": [
        "early_stopping_cb = tf.keras.callbacks.EarlyStopping(patience=5, restore_best_weights=True)"
      ],
      "metadata": {
        "id": "_cG2vZpQEwrB"
      },
      "execution_count": 8,
      "outputs": []
    },
    {
      "cell_type": "markdown",
      "source": [
        "### **1. SGD**"
      ],
      "metadata": {
        "id": "jwWqHFUmVJEY"
      }
    },
    {
      "cell_type": "code",
      "source": [
        "LAYERS = [tf.keras.layers.Flatten(input_shape = [28,28], name = \"inputLayer\"),\n",
        "         tf.keras.layers.Dense(300,activation=\"relu\", name = \"hiddenlayer1\"),\n",
        "         tf.keras.layers.Dense(100,activation=\"relu\", name = \"hiddenlayer2\"),\n",
        "         tf.keras.layers.Dense(10,activation=\"softmax\", name = \"outputLayer\")]\n",
        "\n",
        "model_clf = tf.keras.models.Sequential(LAYERS)\n",
        "\n",
        "model_clf.compile(loss = tf.losses.sparse_categorical_crossentropy,\n",
        "                  optimizer = tf.keras.optimizers.SGD(0.02),\n",
        "                  metrics = [\"accuracy\"])\n",
        "\n",
        "EPOCHS = 50\n",
        "VALIDATION_SET = (X_valid, y_valid)\n",
        "\n",
        "history = model_clf.fit(X_train, y_train, epochs= EPOCHS, validation_data= VALIDATION_SET, verbose=2, batch_size=32, callbacks=[early_stopping_cb])"
      ],
      "metadata": {
        "id": "DoE-kv7eVLjc",
        "colab": {
          "base_uri": "https://localhost:8080/"
        },
        "outputId": "8c94f1f2-33e5-46a2-d0a2-08e372f4aa62"
      },
      "execution_count": 9,
      "outputs": [
        {
          "output_type": "stream",
          "name": "stdout",
          "text": [
            "Epoch 1/50\n",
            "1719/1719 - 14s - loss: 0.4570 - accuracy: 0.8766 - val_loss: 0.2398 - val_accuracy: 0.9318 - 14s/epoch - 8ms/step\n",
            "Epoch 2/50\n",
            "1719/1719 - 10s - loss: 0.2237 - accuracy: 0.9360 - val_loss: 0.1820 - val_accuracy: 0.9482 - 10s/epoch - 6ms/step\n",
            "Epoch 3/50\n",
            "1719/1719 - 7s - loss: 0.1716 - accuracy: 0.9517 - val_loss: 0.1498 - val_accuracy: 0.9596 - 7s/epoch - 4ms/step\n",
            "Epoch 4/50\n",
            "1719/1719 - 7s - loss: 0.1396 - accuracy: 0.9598 - val_loss: 0.1282 - val_accuracy: 0.9654 - 7s/epoch - 4ms/step\n",
            "Epoch 5/50\n",
            "1719/1719 - 7s - loss: 0.1164 - accuracy: 0.9667 - val_loss: 0.1142 - val_accuracy: 0.9690 - 7s/epoch - 4ms/step\n",
            "Epoch 6/50\n",
            "1719/1719 - 7s - loss: 0.0987 - accuracy: 0.9719 - val_loss: 0.0998 - val_accuracy: 0.9712 - 7s/epoch - 4ms/step\n",
            "Epoch 7/50\n",
            "1719/1719 - 8s - loss: 0.0851 - accuracy: 0.9751 - val_loss: 0.0955 - val_accuracy: 0.9726 - 8s/epoch - 5ms/step\n",
            "Epoch 8/50\n",
            "1719/1719 - 8s - loss: 0.0747 - accuracy: 0.9785 - val_loss: 0.0904 - val_accuracy: 0.9738 - 8s/epoch - 4ms/step\n",
            "Epoch 9/50\n",
            "1719/1719 - 9s - loss: 0.0657 - accuracy: 0.9811 - val_loss: 0.0817 - val_accuracy: 0.9752 - 9s/epoch - 5ms/step\n",
            "Epoch 10/50\n",
            "1719/1719 - 7s - loss: 0.0577 - accuracy: 0.9834 - val_loss: 0.0770 - val_accuracy: 0.9768 - 7s/epoch - 4ms/step\n",
            "Epoch 11/50\n",
            "1719/1719 - 7s - loss: 0.0512 - accuracy: 0.9859 - val_loss: 0.0772 - val_accuracy: 0.9752 - 7s/epoch - 4ms/step\n",
            "Epoch 12/50\n",
            "1719/1719 - 7s - loss: 0.0456 - accuracy: 0.9875 - val_loss: 0.0708 - val_accuracy: 0.9796 - 7s/epoch - 4ms/step\n",
            "Epoch 13/50\n",
            "1719/1719 - 8s - loss: 0.0410 - accuracy: 0.9892 - val_loss: 0.0680 - val_accuracy: 0.9780 - 8s/epoch - 5ms/step\n",
            "Epoch 14/50\n",
            "1719/1719 - 7s - loss: 0.0366 - accuracy: 0.9904 - val_loss: 0.0662 - val_accuracy: 0.9806 - 7s/epoch - 4ms/step\n",
            "Epoch 15/50\n",
            "1719/1719 - 10s - loss: 0.0328 - accuracy: 0.9917 - val_loss: 0.0692 - val_accuracy: 0.9798 - 10s/epoch - 6ms/step\n",
            "Epoch 16/50\n",
            "1719/1719 - 8s - loss: 0.0290 - accuracy: 0.9932 - val_loss: 0.0667 - val_accuracy: 0.9798 - 8s/epoch - 4ms/step\n",
            "Epoch 17/50\n",
            "1719/1719 - 8s - loss: 0.0263 - accuracy: 0.9938 - val_loss: 0.0653 - val_accuracy: 0.9812 - 8s/epoch - 5ms/step\n",
            "Epoch 18/50\n",
            "1719/1719 - 8s - loss: 0.0237 - accuracy: 0.9948 - val_loss: 0.0635 - val_accuracy: 0.9812 - 8s/epoch - 4ms/step\n",
            "Epoch 19/50\n",
            "1719/1719 - 7s - loss: 0.0212 - accuracy: 0.9955 - val_loss: 0.0652 - val_accuracy: 0.9818 - 7s/epoch - 4ms/step\n",
            "Epoch 20/50\n",
            "1719/1719 - 8s - loss: 0.0188 - accuracy: 0.9962 - val_loss: 0.0635 - val_accuracy: 0.9796 - 8s/epoch - 4ms/step\n",
            "Epoch 21/50\n",
            "1719/1719 - 7s - loss: 0.0172 - accuracy: 0.9969 - val_loss: 0.0647 - val_accuracy: 0.9800 - 7s/epoch - 4ms/step\n",
            "Epoch 22/50\n",
            "1719/1719 - 8s - loss: 0.0155 - accuracy: 0.9974 - val_loss: 0.0645 - val_accuracy: 0.9806 - 8s/epoch - 4ms/step\n",
            "Epoch 23/50\n",
            "1719/1719 - 8s - loss: 0.0138 - accuracy: 0.9978 - val_loss: 0.0619 - val_accuracy: 0.9824 - 8s/epoch - 5ms/step\n",
            "Epoch 24/50\n",
            "1719/1719 - 8s - loss: 0.0127 - accuracy: 0.9982 - val_loss: 0.0640 - val_accuracy: 0.9808 - 8s/epoch - 5ms/step\n",
            "Epoch 25/50\n",
            "1719/1719 - 10s - loss: 0.0115 - accuracy: 0.9986 - val_loss: 0.0626 - val_accuracy: 0.9808 - 10s/epoch - 6ms/step\n",
            "Epoch 26/50\n",
            "1719/1719 - 8s - loss: 0.0103 - accuracy: 0.9988 - val_loss: 0.0628 - val_accuracy: 0.9816 - 8s/epoch - 4ms/step\n",
            "Epoch 27/50\n",
            "1719/1719 - 8s - loss: 0.0094 - accuracy: 0.9989 - val_loss: 0.0624 - val_accuracy: 0.9816 - 8s/epoch - 4ms/step\n",
            "Epoch 28/50\n",
            "1719/1719 - 7s - loss: 0.0087 - accuracy: 0.9991 - val_loss: 0.0621 - val_accuracy: 0.9816 - 7s/epoch - 4ms/step\n"
          ]
        }
      ]
    },
    {
      "cell_type": "markdown",
      "source": [
        "### **2. Momentum Optimization**"
      ],
      "metadata": {
        "id": "vb3J0CozszXi"
      }
    },
    {
      "cell_type": "code",
      "source": [
        "del model_clf\n",
        "\n",
        "LAYERS = [tf.keras.layers.Flatten(input_shape = [28,28], name = \"inputLayer\"),\n",
        "         tf.keras.layers.Dense(300,activation=\"relu\", name = \"hiddenlayer1\"),\n",
        "         tf.keras.layers.Dense(100,activation=\"relu\", name = \"hiddenlayer2\"),\n",
        "         tf.keras.layers.Dense(10,activation=\"softmax\", name = \"outputLayer\")]\n",
        "\n",
        "model_clf = tf.keras.models.Sequential(LAYERS)\n",
        "\n",
        "model_clf.compile(loss = tf.losses.sparse_categorical_crossentropy,\n",
        "                  optimizer = tf.keras.optimizers.SGD(learning_rate=0.02, momentum=0.9),\n",
        "                  metrics = [\"accuracy\"])\n",
        "\n",
        "EPOCHS = 50\n",
        "VALIDATION_SET = (X_valid, y_valid)\n",
        "\n",
        "history = model_clf.fit(X_train, y_train, epochs= EPOCHS, validation_data= VALIDATION_SET, verbose=2, batch_size=32, callbacks=[early_stopping_cb])"
      ],
      "metadata": {
        "id": "gLgmIlp_ERVe",
        "colab": {
          "base_uri": "https://localhost:8080/"
        },
        "outputId": "fa06e580-5c90-4d6b-daea-33304aa2ee61"
      },
      "execution_count": 10,
      "outputs": [
        {
          "output_type": "stream",
          "name": "stdout",
          "text": [
            "Epoch 1/50\n",
            "1719/1719 - 9s - loss: 0.2359 - accuracy: 0.9274 - val_loss: 0.1019 - val_accuracy: 0.9700 - 9s/epoch - 5ms/step\n",
            "Epoch 2/50\n",
            "1719/1719 - 8s - loss: 0.0954 - accuracy: 0.9703 - val_loss: 0.0946 - val_accuracy: 0.9698 - 8s/epoch - 4ms/step\n",
            "Epoch 3/50\n",
            "1719/1719 - 8s - loss: 0.0636 - accuracy: 0.9799 - val_loss: 0.0759 - val_accuracy: 0.9774 - 8s/epoch - 5ms/step\n",
            "Epoch 4/50\n",
            "1719/1719 - 9s - loss: 0.0467 - accuracy: 0.9848 - val_loss: 0.0701 - val_accuracy: 0.9770 - 9s/epoch - 5ms/step\n",
            "Epoch 5/50\n",
            "1719/1719 - 10s - loss: 0.0337 - accuracy: 0.9887 - val_loss: 0.0712 - val_accuracy: 0.9810 - 10s/epoch - 6ms/step\n",
            "Epoch 6/50\n",
            "1719/1719 - 12s - loss: 0.0272 - accuracy: 0.9911 - val_loss: 0.0717 - val_accuracy: 0.9810 - 12s/epoch - 7ms/step\n",
            "Epoch 7/50\n",
            "1719/1719 - 9s - loss: 0.0203 - accuracy: 0.9936 - val_loss: 0.0697 - val_accuracy: 0.9830 - 9s/epoch - 5ms/step\n",
            "Epoch 8/50\n",
            "1719/1719 - 9s - loss: 0.0141 - accuracy: 0.9955 - val_loss: 0.0669 - val_accuracy: 0.9836 - 9s/epoch - 5ms/step\n",
            "Epoch 9/50\n",
            "1719/1719 - 7s - loss: 0.0099 - accuracy: 0.9967 - val_loss: 0.0771 - val_accuracy: 0.9814 - 7s/epoch - 4ms/step\n",
            "Epoch 10/50\n",
            "1719/1719 - 8s - loss: 0.0082 - accuracy: 0.9975 - val_loss: 0.0686 - val_accuracy: 0.9838 - 8s/epoch - 5ms/step\n",
            "Epoch 11/50\n",
            "1719/1719 - 8s - loss: 0.0058 - accuracy: 0.9981 - val_loss: 0.0701 - val_accuracy: 0.9836 - 8s/epoch - 5ms/step\n",
            "Epoch 12/50\n",
            "1719/1719 - 10s - loss: 0.0044 - accuracy: 0.9987 - val_loss: 0.0785 - val_accuracy: 0.9844 - 10s/epoch - 6ms/step\n",
            "Epoch 13/50\n",
            "1719/1719 - 9s - loss: 0.0048 - accuracy: 0.9986 - val_loss: 0.0845 - val_accuracy: 0.9832 - 9s/epoch - 5ms/step\n"
          ]
        }
      ]
    },
    {
      "cell_type": "markdown",
      "source": [
        "### **3.Nestrov Accelerated Gradient(NAG)**"
      ],
      "metadata": {
        "id": "aMSNN1YAvPSa"
      }
    },
    {
      "cell_type": "code",
      "source": [
        "del model_clf\n",
        "\n",
        "LAYERS = [tf.keras.layers.Flatten(input_shape = [28,28], name = \"inputLayer\"),\n",
        "         tf.keras.layers.Dense(300,activation=\"relu\", name = \"hiddenlayer1\"),\n",
        "         tf.keras.layers.Dense(100,activation=\"relu\", name = \"hiddenlayer2\"),\n",
        "         tf.keras.layers.Dense(10,activation=\"softmax\", name = \"outputLayer\")]\n",
        "\n",
        "model_clf = tf.keras.models.Sequential(LAYERS)\n",
        "\n",
        "model_clf.compile(loss = tf.losses.sparse_categorical_crossentropy,\n",
        "                  optimizer = tf.keras.optimizers.SGD(learning_rate=0.02, momentum=0.9, nesterov=True),\n",
        "                  metrics = [\"accuracy\"])\n",
        "\n",
        "EPOCHS = 50\n",
        "VALIDATION_SET = (X_valid, y_valid)\n",
        "\n",
        "history = model_clf.fit(X_train, y_train, epochs= EPOCHS, validation_data= VALIDATION_SET, verbose=2, batch_size=32, callbacks=[early_stopping_cb])"
      ],
      "metadata": {
        "colab": {
          "base_uri": "https://localhost:8080/"
        },
        "id": "WjuwdGyTvKC0",
        "outputId": "942ec041-2c1d-4c8f-e735-3a2db2c5d53c"
      },
      "execution_count": 11,
      "outputs": [
        {
          "output_type": "stream",
          "name": "stdout",
          "text": [
            "Epoch 1/50\n",
            "1719/1719 - 11s - loss: 0.2271 - accuracy: 0.9314 - val_loss: 0.1088 - val_accuracy: 0.9676 - 11s/epoch - 6ms/step\n",
            "Epoch 2/50\n",
            "1719/1719 - 8s - loss: 0.0929 - accuracy: 0.9708 - val_loss: 0.0834 - val_accuracy: 0.9740 - 8s/epoch - 5ms/step\n",
            "Epoch 3/50\n",
            "1719/1719 - 8s - loss: 0.0633 - accuracy: 0.9795 - val_loss: 0.0709 - val_accuracy: 0.9784 - 8s/epoch - 4ms/step\n",
            "Epoch 4/50\n",
            "1719/1719 - 8s - loss: 0.0465 - accuracy: 0.9849 - val_loss: 0.0719 - val_accuracy: 0.9790 - 8s/epoch - 5ms/step\n",
            "Epoch 5/50\n",
            "1719/1719 - 8s - loss: 0.0333 - accuracy: 0.9892 - val_loss: 0.0683 - val_accuracy: 0.9806 - 8s/epoch - 5ms/step\n",
            "Epoch 6/50\n",
            "1719/1719 - 8s - loss: 0.0260 - accuracy: 0.9914 - val_loss: 0.0851 - val_accuracy: 0.9792 - 8s/epoch - 5ms/step\n",
            "Epoch 7/50\n",
            "1719/1719 - 9s - loss: 0.0195 - accuracy: 0.9937 - val_loss: 0.0738 - val_accuracy: 0.9828 - 9s/epoch - 5ms/step\n",
            "Epoch 8/50\n",
            "1719/1719 - 8s - loss: 0.0155 - accuracy: 0.9948 - val_loss: 0.0774 - val_accuracy: 0.9812 - 8s/epoch - 5ms/step\n",
            "Epoch 9/50\n",
            "1719/1719 - 7s - loss: 0.0100 - accuracy: 0.9969 - val_loss: 0.0758 - val_accuracy: 0.9840 - 7s/epoch - 4ms/step\n",
            "Epoch 10/50\n",
            "1719/1719 - 9s - loss: 0.0075 - accuracy: 0.9976 - val_loss: 0.0705 - val_accuracy: 0.9840 - 9s/epoch - 5ms/step\n"
          ]
        }
      ]
    },
    {
      "cell_type": "code",
      "source": [],
      "metadata": {
        "id": "1gsckzowv6y7"
      },
      "execution_count": null,
      "outputs": []
    }
  ]
}