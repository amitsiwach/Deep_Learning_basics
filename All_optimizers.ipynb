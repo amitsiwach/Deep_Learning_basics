{
  "nbformat": 4,
  "nbformat_minor": 0,
  "metadata": {
    "colab": {
      "provenance": [],
      "authorship_tag": "ABX9TyN4sued6NU9S1eAXoVIRLXu",
      "include_colab_link": true
    },
    "kernelspec": {
      "name": "python3",
      "display_name": "Python 3"
    },
    "language_info": {
      "name": "python"
    },
    "accelerator": "GPU",
    "gpuClass": "standard"
  },
  "cells": [
    {
      "cell_type": "markdown",
      "metadata": {
        "id": "view-in-github",
        "colab_type": "text"
      },
      "source": [
        "<a href=\"https://colab.research.google.com/github/amitsiwach/Deep_Learning_notebooks/blob/main/All_optimizers.ipynb\" target=\"_parent\"><img src=\"https://colab.research.google.com/assets/colab-badge.svg\" alt=\"Open In Colab\"/></a>"
      ]
    },
    {
      "cell_type": "code",
      "source": [
        "import tensorflow as tf\n",
        "import numpy as np\n",
        "import matplotlib.pyplot as plt\n",
        "import pandas as pd\n",
        "import os"
      ],
      "metadata": {
        "id": "Kcd2hU4VVuD_"
      },
      "execution_count": 1,
      "outputs": []
    },
    {
      "cell_type": "code",
      "source": [
        "mnist = tf.keras.datasets.mnist\n",
        "\n",
        "(X_train_full, y_train_full), (X_test, y_test) = mnist.load_data()"
      ],
      "metadata": {
        "id": "Z0wisYWeWr4h"
      },
      "execution_count": 2,
      "outputs": []
    },
    {
      "cell_type": "code",
      "source": [
        "X_train_full.shape, y_train_full.shape"
      ],
      "metadata": {
        "colab": {
          "base_uri": "https://localhost:8080/"
        },
        "id": "8CNzJVwdXrgd",
        "outputId": "eb151ca4-d932-4d14-91ce-ee3ea3c1d1ce"
      },
      "execution_count": 3,
      "outputs": [
        {
          "output_type": "execute_result",
          "data": {
            "text/plain": [
              "((60000, 28, 28), (60000,))"
            ]
          },
          "metadata": {},
          "execution_count": 3
        }
      ]
    },
    {
      "cell_type": "code",
      "source": [
        "X_test.shape, y_test.shape"
      ],
      "metadata": {
        "colab": {
          "base_uri": "https://localhost:8080/"
        },
        "id": "6l6inTRsX4jX",
        "outputId": "49523ae5-d70f-4ed2-9998-e95557def2c7"
      },
      "execution_count": 4,
      "outputs": [
        {
          "output_type": "execute_result",
          "data": {
            "text/plain": [
              "((10000, 28, 28), (10000,))"
            ]
          },
          "metadata": {},
          "execution_count": 4
        }
      ]
    },
    {
      "cell_type": "code",
      "source": [
        "X_valid, X_train = X_train_full[:5000]/255.0, X_train_full[5000:]/255.0\n",
        "y_valid, y_train = y_train_full[:5000], y_train_full[5000:]"
      ],
      "metadata": {
        "id": "Ya9s3BOwaa1i"
      },
      "execution_count": 5,
      "outputs": []
    },
    {
      "cell_type": "code",
      "source": [
        "early_stopping_cb = tf.keras.callbacks.EarlyStopping(patience=5, restore_best_weights=True)\n",
        "\n",
        "LAYERS = [tf.keras.layers.Flatten(input_shape = [28,28], name = \"inputLayer\"),\n",
        "         tf.keras.layers.Dense(300,activation=\"relu\", name = \"hiddenlayer1\"),\n",
        "         tf.keras.layers.Dense(100,activation=\"relu\", name = \"hiddenlayer2\"),\n",
        "         tf.keras.layers.Dense(10,activation=\"softmax\", name = \"outputLayer\")]\n",
        "\n",
        "EPOCHS = 50\n",
        "VALIDATION_SET = (X_valid, y_valid)"
      ],
      "metadata": {
        "id": "_cG2vZpQEwrB"
      },
      "execution_count": 6,
      "outputs": []
    },
    {
      "cell_type": "markdown",
      "source": [
        "### **1. SGD**"
      ],
      "metadata": {
        "id": "jwWqHFUmVJEY"
      }
    },
    {
      "cell_type": "code",
      "source": [
        "model_clf = tf.keras.models.Sequential(LAYERS)\n",
        "\n",
        "model_clf.compile(loss = tf.losses.sparse_categorical_crossentropy,\n",
        "                  optimizer = tf.keras.optimizers.SGD(0.02),\n",
        "                  metrics = [\"accuracy\"])\n",
        "\n",
        "history = model_clf.fit(X_train, y_train, epochs= EPOCHS, validation_data= VALIDATION_SET, verbose=2, batch_size=32, callbacks=[early_stopping_cb])"
      ],
      "metadata": {
        "id": "DoE-kv7eVLjc",
        "colab": {
          "base_uri": "https://localhost:8080/"
        },
        "outputId": "0b39578f-b476-457a-bbc5-d5d0a492c513"
      },
      "execution_count": 7,
      "outputs": [
        {
          "output_type": "stream",
          "name": "stdout",
          "text": [
            "Epoch 1/50\n",
            "1719/1719 - 12s - loss: 0.4430 - accuracy: 0.8819 - val_loss: 0.2374 - val_accuracy: 0.9350 - 12s/epoch - 7ms/step\n",
            "Epoch 2/50\n",
            "1719/1719 - 7s - loss: 0.2217 - accuracy: 0.9361 - val_loss: 0.1725 - val_accuracy: 0.9562 - 7s/epoch - 4ms/step\n",
            "Epoch 3/50\n",
            "1719/1719 - 8s - loss: 0.1697 - accuracy: 0.9517 - val_loss: 0.1397 - val_accuracy: 0.9630 - 8s/epoch - 4ms/step\n",
            "Epoch 4/50\n",
            "1719/1719 - 7s - loss: 0.1371 - accuracy: 0.9603 - val_loss: 0.1246 - val_accuracy: 0.9662 - 7s/epoch - 4ms/step\n",
            "Epoch 5/50\n",
            "1719/1719 - 8s - loss: 0.1138 - accuracy: 0.9678 - val_loss: 0.1105 - val_accuracy: 0.9686 - 8s/epoch - 4ms/step\n",
            "Epoch 6/50\n",
            "1719/1719 - 8s - loss: 0.0970 - accuracy: 0.9724 - val_loss: 0.0990 - val_accuracy: 0.9706 - 8s/epoch - 5ms/step\n",
            "Epoch 7/50\n",
            "1719/1719 - 8s - loss: 0.0840 - accuracy: 0.9763 - val_loss: 0.0941 - val_accuracy: 0.9710 - 8s/epoch - 5ms/step\n",
            "Epoch 8/50\n",
            "1719/1719 - 8s - loss: 0.0735 - accuracy: 0.9793 - val_loss: 0.0844 - val_accuracy: 0.9764 - 8s/epoch - 4ms/step\n",
            "Epoch 9/50\n",
            "1719/1719 - 8s - loss: 0.0644 - accuracy: 0.9819 - val_loss: 0.0793 - val_accuracy: 0.9760 - 8s/epoch - 4ms/step\n",
            "Epoch 10/50\n",
            "1719/1719 - 7s - loss: 0.0566 - accuracy: 0.9843 - val_loss: 0.0804 - val_accuracy: 0.9754 - 7s/epoch - 4ms/step\n",
            "Epoch 11/50\n",
            "1719/1719 - 7s - loss: 0.0508 - accuracy: 0.9859 - val_loss: 0.0775 - val_accuracy: 0.9776 - 7s/epoch - 4ms/step\n",
            "Epoch 12/50\n",
            "1719/1719 - 8s - loss: 0.0450 - accuracy: 0.9880 - val_loss: 0.0688 - val_accuracy: 0.9808 - 8s/epoch - 5ms/step\n",
            "Epoch 13/50\n",
            "1719/1719 - 8s - loss: 0.0402 - accuracy: 0.9889 - val_loss: 0.0699 - val_accuracy: 0.9790 - 8s/epoch - 5ms/step\n",
            "Epoch 14/50\n",
            "1719/1719 - 8s - loss: 0.0361 - accuracy: 0.9903 - val_loss: 0.0664 - val_accuracy: 0.9806 - 8s/epoch - 4ms/step\n",
            "Epoch 15/50\n",
            "1719/1719 - 8s - loss: 0.0320 - accuracy: 0.9917 - val_loss: 0.0666 - val_accuracy: 0.9810 - 8s/epoch - 5ms/step\n",
            "Epoch 16/50\n",
            "1719/1719 - 8s - loss: 0.0290 - accuracy: 0.9927 - val_loss: 0.0637 - val_accuracy: 0.9816 - 8s/epoch - 4ms/step\n",
            "Epoch 17/50\n",
            "1719/1719 - 7s - loss: 0.0259 - accuracy: 0.9939 - val_loss: 0.0689 - val_accuracy: 0.9806 - 7s/epoch - 4ms/step\n",
            "Epoch 18/50\n",
            "1719/1719 - 8s - loss: 0.0228 - accuracy: 0.9947 - val_loss: 0.0695 - val_accuracy: 0.9802 - 8s/epoch - 4ms/step\n",
            "Epoch 19/50\n",
            "1719/1719 - 8s - loss: 0.0205 - accuracy: 0.9957 - val_loss: 0.0644 - val_accuracy: 0.9830 - 8s/epoch - 4ms/step\n",
            "Epoch 20/50\n",
            "1719/1719 - 7s - loss: 0.0185 - accuracy: 0.9965 - val_loss: 0.0648 - val_accuracy: 0.9814 - 7s/epoch - 4ms/step\n",
            "Epoch 21/50\n",
            "1719/1719 - 8s - loss: 0.0167 - accuracy: 0.9968 - val_loss: 0.0650 - val_accuracy: 0.9830 - 8s/epoch - 4ms/step\n"
          ]
        }
      ]
    },
    {
      "cell_type": "markdown",
      "source": [
        "### **2. Momentum Optimization**"
      ],
      "metadata": {
        "id": "vb3J0CozszXi"
      }
    },
    {
      "cell_type": "code",
      "source": [
        "del model_clf\n",
        "\n",
        "model_clf = tf.keras.models.Sequential(LAYERS)\n",
        "\n",
        "model_clf.compile(loss = tf.losses.sparse_categorical_crossentropy,\n",
        "                  optimizer = tf.keras.optimizers.SGD(learning_rate=0.02, momentum=0.9),\n",
        "                  metrics = [\"accuracy\"])\n",
        "\n",
        "history = model_clf.fit(X_train, y_train, epochs= EPOCHS, validation_data= VALIDATION_SET, verbose=2, batch_size=32, callbacks=[early_stopping_cb])"
      ],
      "metadata": {
        "id": "gLgmIlp_ERVe",
        "colab": {
          "base_uri": "https://localhost:8080/"
        },
        "outputId": "64aa9969-f499-446e-c0e4-58364f0b8b33"
      },
      "execution_count": 8,
      "outputs": [
        {
          "output_type": "stream",
          "name": "stdout",
          "text": [
            "Epoch 1/50\n",
            "1719/1719 - 9s - loss: 0.1138 - accuracy: 0.9636 - val_loss: 0.0875 - val_accuracy: 0.9768 - 9s/epoch - 5ms/step\n",
            "Epoch 2/50\n",
            "1719/1719 - 8s - loss: 0.0670 - accuracy: 0.9785 - val_loss: 0.0808 - val_accuracy: 0.9770 - 8s/epoch - 5ms/step\n",
            "Epoch 3/50\n",
            "1719/1719 - 7s - loss: 0.0461 - accuracy: 0.9850 - val_loss: 0.0829 - val_accuracy: 0.9762 - 7s/epoch - 4ms/step\n",
            "Epoch 4/50\n",
            "1719/1719 - 8s - loss: 0.0311 - accuracy: 0.9897 - val_loss: 0.0812 - val_accuracy: 0.9810 - 8s/epoch - 5ms/step\n",
            "Epoch 5/50\n",
            "1719/1719 - 9s - loss: 0.0255 - accuracy: 0.9911 - val_loss: 0.0922 - val_accuracy: 0.9770 - 9s/epoch - 5ms/step\n",
            "Epoch 6/50\n",
            "1719/1719 - 8s - loss: 0.0195 - accuracy: 0.9933 - val_loss: 0.0868 - val_accuracy: 0.9796 - 8s/epoch - 5ms/step\n",
            "Epoch 7/50\n",
            "1719/1719 - 8s - loss: 0.0151 - accuracy: 0.9948 - val_loss: 0.0871 - val_accuracy: 0.9814 - 8s/epoch - 5ms/step\n"
          ]
        }
      ]
    },
    {
      "cell_type": "markdown",
      "source": [
        "### **3.Nestrov Accelerated Gradient(NAG)**"
      ],
      "metadata": {
        "id": "aMSNN1YAvPSa"
      }
    },
    {
      "cell_type": "code",
      "source": [
        "del model_clf\n",
        "\n",
        "model_clf = tf.keras.models.Sequential(LAYERS)\n",
        "\n",
        "model_clf.compile(loss = tf.losses.sparse_categorical_crossentropy,\n",
        "                  optimizer = tf.keras.optimizers.SGD(learning_rate=0.02, momentum=0.9, nesterov=True),\n",
        "                  metrics = [\"accuracy\"])\n",
        "\n",
        "history = model_clf.fit(X_train, y_train, epochs= EPOCHS, validation_data= VALIDATION_SET, verbose=2, batch_size=32, callbacks=[early_stopping_cb])"
      ],
      "metadata": {
        "colab": {
          "base_uri": "https://localhost:8080/"
        },
        "id": "WjuwdGyTvKC0",
        "outputId": "462f8489-4270-4f83-8c84-628d47d44e64"
      },
      "execution_count": 9,
      "outputs": [
        {
          "output_type": "stream",
          "name": "stdout",
          "text": [
            "Epoch 1/50\n",
            "1719/1719 - 8s - loss: 0.0442 - accuracy: 0.9863 - val_loss: 0.0753 - val_accuracy: 0.9798 - 8s/epoch - 5ms/step\n",
            "Epoch 2/50\n",
            "1719/1719 - 7s - loss: 0.0324 - accuracy: 0.9889 - val_loss: 0.0803 - val_accuracy: 0.9790 - 7s/epoch - 4ms/step\n",
            "Epoch 3/50\n",
            "1719/1719 - 9s - loss: 0.0253 - accuracy: 0.9911 - val_loss: 0.0879 - val_accuracy: 0.9774 - 9s/epoch - 5ms/step\n",
            "Epoch 4/50\n",
            "1719/1719 - 8s - loss: 0.0201 - accuracy: 0.9936 - val_loss: 0.0785 - val_accuracy: 0.9826 - 8s/epoch - 4ms/step\n",
            "Epoch 5/50\n",
            "1719/1719 - 8s - loss: 0.0131 - accuracy: 0.9957 - val_loss: 0.0727 - val_accuracy: 0.9798 - 8s/epoch - 5ms/step\n",
            "Epoch 6/50\n",
            "1719/1719 - 8s - loss: 0.0122 - accuracy: 0.9962 - val_loss: 0.0745 - val_accuracy: 0.9830 - 8s/epoch - 5ms/step\n",
            "Epoch 7/50\n",
            "1719/1719 - 8s - loss: 0.0076 - accuracy: 0.9976 - val_loss: 0.0899 - val_accuracy: 0.9816 - 8s/epoch - 5ms/step\n",
            "Epoch 8/50\n",
            "1719/1719 - 8s - loss: 0.0044 - accuracy: 0.9987 - val_loss: 0.0790 - val_accuracy: 0.9836 - 8s/epoch - 4ms/step\n",
            "Epoch 9/50\n",
            "1719/1719 - 8s - loss: 0.0014 - accuracy: 0.9998 - val_loss: 0.0828 - val_accuracy: 0.9844 - 8s/epoch - 5ms/step\n",
            "Epoch 10/50\n",
            "1719/1719 - 8s - loss: 6.1676e-04 - accuracy: 0.9999 - val_loss: 0.0839 - val_accuracy: 0.9844 - 8s/epoch - 4ms/step\n"
          ]
        }
      ]
    },
    {
      "cell_type": "code",
      "source": [],
      "metadata": {
        "id": "1gsckzowv6y7"
      },
      "execution_count": 9,
      "outputs": []
    }
  ]
}